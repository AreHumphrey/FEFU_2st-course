{
 "cells": [
  {
   "cell_type": "code",
   "id": "initial_id",
   "metadata": {
    "collapsed": true,
    "ExecuteTime": {
     "end_time": "2024-05-06T12:02:19.501737600Z",
     "start_time": "2024-05-06T12:02:19.106086900Z"
    }
   },
   "source": [
    "import pandas as pd"
   ],
   "outputs": [],
   "execution_count": 1
  },
  {
   "metadata": {
    "ExecuteTime": {
     "end_time": "2024-05-06T12:02:19.517114500Z",
     "start_time": "2024-05-06T12:02:19.504044600Z"
    }
   },
   "cell_type": "code",
   "source": [
    "df = pd.read_csv('data_b4_p3.csv', index_col=0)\n",
    "df"
   ],
   "id": "519a19b46ecc97c7",
   "outputs": [
    {
     "data": {
      "text/plain": "         Промышленность  Сфера услуг  Медицина\nВозраст                                       \n25<                 9.0         14.1       5.1\n25-35              34.9         29.7       7.9\n35-45              35.6         26.3      11.5\n45-50               8.1         12.8      27.7\n50-55               7.3         10.5      24.6\n55-60               4.0          4.5      15.4\n>60                 1.1          2.1       7.8",
      "text/html": "<div>\n<style scoped>\n    .dataframe tbody tr th:only-of-type {\n        vertical-align: middle;\n    }\n\n    .dataframe tbody tr th {\n        vertical-align: top;\n    }\n\n    .dataframe thead th {\n        text-align: right;\n    }\n</style>\n<table border=\"1\" class=\"dataframe\">\n  <thead>\n    <tr style=\"text-align: right;\">\n      <th></th>\n      <th>Промышленность</th>\n      <th>Сфера услуг</th>\n      <th>Медицина</th>\n    </tr>\n    <tr>\n      <th>Возраст</th>\n      <th></th>\n      <th></th>\n      <th></th>\n    </tr>\n  </thead>\n  <tbody>\n    <tr>\n      <th>25&lt;</th>\n      <td>9.0</td>\n      <td>14.1</td>\n      <td>5.1</td>\n    </tr>\n    <tr>\n      <th>25-35</th>\n      <td>34.9</td>\n      <td>29.7</td>\n      <td>7.9</td>\n    </tr>\n    <tr>\n      <th>35-45</th>\n      <td>35.6</td>\n      <td>26.3</td>\n      <td>11.5</td>\n    </tr>\n    <tr>\n      <th>45-50</th>\n      <td>8.1</td>\n      <td>12.8</td>\n      <td>27.7</td>\n    </tr>\n    <tr>\n      <th>50-55</th>\n      <td>7.3</td>\n      <td>10.5</td>\n      <td>24.6</td>\n    </tr>\n    <tr>\n      <th>55-60</th>\n      <td>4.0</td>\n      <td>4.5</td>\n      <td>15.4</td>\n    </tr>\n    <tr>\n      <th>&gt;60</th>\n      <td>1.1</td>\n      <td>2.1</td>\n      <td>7.8</td>\n    </tr>\n  </tbody>\n</table>\n</div>"
     },
     "execution_count": 2,
     "metadata": {},
     "output_type": "execute_result"
    }
   ],
   "execution_count": 2
  },
  {
   "metadata": {
    "ExecuteTime": {
     "end_time": "2024-05-06T12:02:19.524500800Z",
     "start_time": "2024-05-06T12:02:19.521538Z"
    }
   },
   "cell_type": "code",
   "source": [
    "freq_prom = df.loc[df['Промышленность'] == max(df['Промышленность'])].index[0]\n",
    "freq_act = df.loc[df['Сфера услуг'] == max(df['Сфера услуг'])].index[0]\n",
    "freq_med = df.loc[df['Медицина'] == max(df['Медицина'])].index[0]\n",
    "print(freq_prom, freq_act, freq_med)"
   ],
   "id": "118049ab3ad9e278",
   "outputs": [
    {
     "name": "stdout",
     "output_type": "stream",
     "text": [
      "35-45 25-35 45-50\n"
     ]
    }
   ],
   "execution_count": 3
  },
  {
   "metadata": {
    "ExecuteTime": {
     "end_time": "2024-05-06T12:02:19.556782200Z",
     "start_time": "2024-05-06T12:02:19.527053300Z"
    }
   },
   "cell_type": "code",
   "source": [
    "cdf = df.copy()\n",
    "cdf.loc[:, ['Промышленность', 'Сфера услуг', 'Медицина']] = cdf.loc[:,\n",
    "                                                            ['Промышленность', 'Сфера услуг', 'Медицина']].cumsum()\n",
    "cdf"
   ],
   "id": "9001c8270897a11",
   "outputs": [
    {
     "data": {
      "text/plain": "         Промышленность  Сфера услуг  Медицина\nВозраст                                       \n25<                 9.0         14.1       5.1\n25-35              43.9         43.8      13.0\n35-45              79.5         70.1      24.5\n45-50              87.6         82.9      52.2\n50-55              94.9         93.4      76.8\n55-60              98.9         97.9      92.2\n>60               100.0        100.0     100.0",
      "text/html": "<div>\n<style scoped>\n    .dataframe tbody tr th:only-of-type {\n        vertical-align: middle;\n    }\n\n    .dataframe tbody tr th {\n        vertical-align: top;\n    }\n\n    .dataframe thead th {\n        text-align: right;\n    }\n</style>\n<table border=\"1\" class=\"dataframe\">\n  <thead>\n    <tr style=\"text-align: right;\">\n      <th></th>\n      <th>Промышленность</th>\n      <th>Сфера услуг</th>\n      <th>Медицина</th>\n    </tr>\n    <tr>\n      <th>Возраст</th>\n      <th></th>\n      <th></th>\n      <th></th>\n    </tr>\n  </thead>\n  <tbody>\n    <tr>\n      <th>25&lt;</th>\n      <td>9.0</td>\n      <td>14.1</td>\n      <td>5.1</td>\n    </tr>\n    <tr>\n      <th>25-35</th>\n      <td>43.9</td>\n      <td>43.8</td>\n      <td>13.0</td>\n    </tr>\n    <tr>\n      <th>35-45</th>\n      <td>79.5</td>\n      <td>70.1</td>\n      <td>24.5</td>\n    </tr>\n    <tr>\n      <th>45-50</th>\n      <td>87.6</td>\n      <td>82.9</td>\n      <td>52.2</td>\n    </tr>\n    <tr>\n      <th>50-55</th>\n      <td>94.9</td>\n      <td>93.4</td>\n      <td>76.8</td>\n    </tr>\n    <tr>\n      <th>55-60</th>\n      <td>98.9</td>\n      <td>97.9</td>\n      <td>92.2</td>\n    </tr>\n    <tr>\n      <th>&gt;60</th>\n      <td>100.0</td>\n      <td>100.0</td>\n      <td>100.0</td>\n    </tr>\n  </tbody>\n</table>\n</div>"
     },
     "execution_count": 4,
     "metadata": {},
     "output_type": "execute_result"
    }
   ],
   "execution_count": 4
  },
  {
   "metadata": {},
   "cell_type": "markdown",
   "source": [
    "### Промышленность"
   ],
   "id": "c6308df700f44e6e"
  },
  {
   "metadata": {
    "ExecuteTime": {
     "end_time": "2024-05-06T12:02:19.583964700Z",
     "start_time": "2024-05-06T12:02:19.539554400Z"
    }
   },
   "cell_type": "code",
   "source": [
    "mod_prom = 35 + ((35.6 - 34.9) / (35.6 - 34.9) + (35.6 - 8.1)) * 10\n",
    "mod_prom"
   ],
   "id": "331a804768736268",
   "outputs": [
    {
     "data": {
      "text/plain": "320.0"
     },
     "execution_count": 5,
     "metadata": {},
     "output_type": "execute_result"
    }
   ],
   "execution_count": 5
  },
  {
   "metadata": {
    "ExecuteTime": {
     "end_time": "2024-05-06T12:02:19.597986700Z",
     "start_time": "2024-05-06T12:02:19.546836900Z"
    }
   },
   "cell_type": "code",
   "source": [
    "med_prom = 35 + (((100 / 2) + 43.9) / 35.6) * 10\n",
    "med_prom"
   ],
   "id": "3a85aaa783f7649e",
   "outputs": [
    {
     "data": {
      "text/plain": "61.37640449438202"
     },
     "execution_count": 6,
     "metadata": {},
     "output_type": "execute_result"
    }
   ],
   "execution_count": 6
  },
  {
   "metadata": {},
   "cell_type": "markdown",
   "source": [
    "### Сфера услуг"
   ],
   "id": "ff24e85ad72b22ea"
  },
  {
   "metadata": {
    "ExecuteTime": {
     "end_time": "2024-05-06T12:02:19.599007300Z",
     "start_time": "2024-05-06T12:02:19.552521800Z"
    }
   },
   "cell_type": "code",
   "source": [
    "mod_act = 25 + ((29.7 - 14.1) / ((29.7 - 14.1) + (29.7 - 26.3))) * 10\n",
    "mod_act"
   ],
   "id": "74f6429c91516173",
   "outputs": [
    {
     "data": {
      "text/plain": "33.21052631578947"
     },
     "execution_count": 7,
     "metadata": {},
     "output_type": "execute_result"
    }
   ],
   "execution_count": 7
  },
  {
   "metadata": {
    "ExecuteTime": {
     "end_time": "2024-05-06T12:02:19.612722800Z",
     "start_time": "2024-05-06T12:02:19.557834Z"
    }
   },
   "cell_type": "code",
   "source": [
    "med_act = 25 + (((100 / 2) + 14.1) / 29.7) * 10\n",
    "med_act"
   ],
   "id": "54035cf13ba4a25b",
   "outputs": [
    {
     "data": {
      "text/plain": "46.582491582491585"
     },
     "execution_count": 8,
     "metadata": {},
     "output_type": "execute_result"
    }
   ],
   "execution_count": 8
  },
  {
   "metadata": {},
   "cell_type": "markdown",
   "source": [
    "### Медицина"
   ],
   "id": "1c7a617fb8c4f5f3"
  },
  {
   "metadata": {
    "ExecuteTime": {
     "end_time": "2024-05-06T12:02:19.612722800Z",
     "start_time": "2024-05-06T12:02:19.565363700Z"
    }
   },
   "cell_type": "code",
   "source": [
    "mod_med = 45 + ((27.7 - 11.5) / ((27.7 - 11.5) + (27.7 - 24.6))) * 5\n",
    "mod_med"
   ],
   "id": "dc1f7f30b43ac628",
   "outputs": [
    {
     "data": {
      "text/plain": "49.196891191709845"
     },
     "execution_count": 9,
     "metadata": {},
     "output_type": "execute_result"
    }
   ],
   "execution_count": 9
  },
  {
   "metadata": {
    "ExecuteTime": {
     "end_time": "2024-05-06T12:02:19.639909600Z",
     "start_time": "2024-05-06T12:02:19.571684500Z"
    }
   },
   "cell_type": "code",
   "source": [
    "med_med = 45 + (((100 / 2) + 24.5) / 27.7) * 5\n",
    "med_med"
   ],
   "id": "cef35707af2ed2bc",
   "outputs": [
    {
     "data": {
      "text/plain": "58.44765342960289"
     },
     "execution_count": 10,
     "metadata": {},
     "output_type": "execute_result"
    }
   ],
   "execution_count": 10
  }
 ],
 "metadata": {
  "kernelspec": {
   "display_name": "Python 3",
   "language": "python",
   "name": "python3"
  },
  "language_info": {
   "codemirror_mode": {
    "name": "ipython",
    "version": 2
   },
   "file_extension": ".py",
   "mimetype": "text/x-python",
   "name": "python",
   "nbconvert_exporter": "python",
   "pygments_lexer": "ipython2",
   "version": "2.7.6"
  }
 },
 "nbformat": 4,
 "nbformat_minor": 5
}
