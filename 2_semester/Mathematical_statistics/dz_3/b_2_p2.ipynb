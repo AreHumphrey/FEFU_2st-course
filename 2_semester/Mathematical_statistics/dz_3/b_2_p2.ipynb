{
 "cells": [
  {
   "cell_type": "code",
   "id": "initial_id",
   "metadata": {
    "collapsed": true,
    "ExecuteTime": {
     "end_time": "2024-05-06T11:51:13.020686600Z",
     "start_time": "2024-05-06T11:51:13.017736900Z"
    }
   },
   "source": [
    "import pandas as pd"
   ],
   "outputs": [],
   "execution_count": 3
  },
  {
   "metadata": {
    "ExecuteTime": {
     "end_time": "2024-05-06T11:51:13.033933300Z",
     "start_time": "2024-05-06T11:51:13.022688500Z"
    }
   },
   "cell_type": "code",
   "source": [
    "df = pd.read_csv(\"data_b2_p2.csv\", index_col=0)\n",
    "df"
   ],
   "id": "f3027065400b9b33",
   "outputs": [
    {
     "data": {
      "text/plain": "        Вид транспорта  Продолжительность маршрута  \\\nМаршрут                                              \n77             Автобус                         NaN   \n15             Автобус                         NaN   \n\n         Время движения на маршруте  Средний пассажиропоток  \nМаршрут                                                      \n77                              NaN                     NaN  \n15                              NaN                     NaN  ",
      "text/html": "<div>\n<style scoped>\n    .dataframe tbody tr th:only-of-type {\n        vertical-align: middle;\n    }\n\n    .dataframe tbody tr th {\n        vertical-align: top;\n    }\n\n    .dataframe thead th {\n        text-align: right;\n    }\n</style>\n<table border=\"1\" class=\"dataframe\">\n  <thead>\n    <tr style=\"text-align: right;\">\n      <th></th>\n      <th>Вид транспорта</th>\n      <th>Продолжительность маршрута</th>\n      <th>Время движения на маршруте</th>\n      <th>Средний пассажиропоток</th>\n    </tr>\n    <tr>\n      <th>Маршрут</th>\n      <th></th>\n      <th></th>\n      <th></th>\n      <th></th>\n    </tr>\n  </thead>\n  <tbody>\n    <tr>\n      <th>77</th>\n      <td>Автобус</td>\n      <td>NaN</td>\n      <td>NaN</td>\n      <td>NaN</td>\n    </tr>\n    <tr>\n      <th>15</th>\n      <td>Автобус</td>\n      <td>NaN</td>\n      <td>NaN</td>\n      <td>NaN</td>\n    </tr>\n  </tbody>\n</table>\n</div>"
     },
     "execution_count": 4,
     "metadata": {},
     "output_type": "execute_result"
    }
   ],
   "execution_count": 4
  },
  {
   "metadata": {
    "ExecuteTime": {
     "end_time": "2024-05-06T11:51:13.035452400Z",
     "start_time": "2024-05-06T11:51:13.033933300Z"
    }
   },
   "cell_type": "code",
   "outputs": [],
   "execution_count": 4,
   "source": [],
   "id": "9d4e9ce2f764d4a6"
  }
 ],
 "metadata": {
  "kernelspec": {
   "display_name": "Python 3",
   "language": "python",
   "name": "python3"
  },
  "language_info": {
   "codemirror_mode": {
    "name": "ipython",
    "version": 2
   },
   "file_extension": ".py",
   "mimetype": "text/x-python",
   "name": "python",
   "nbconvert_exporter": "python",
   "pygments_lexer": "ipython2",
   "version": "2.7.6"
  }
 },
 "nbformat": 4,
 "nbformat_minor": 5
}
