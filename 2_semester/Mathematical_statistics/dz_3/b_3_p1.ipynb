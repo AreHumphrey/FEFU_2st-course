{
 "cells": [
  {
   "cell_type": "code",
   "id": "initial_id",
   "metadata": {
    "collapsed": true,
    "ExecuteTime": {
     "end_time": "2024-05-06T11:59:22.359899700Z",
     "start_time": "2024-05-06T11:59:21.932885700Z"
    }
   },
   "source": [
    "import pandas as pd"
   ],
   "outputs": [],
   "execution_count": 1
  },
  {
   "metadata": {
    "ExecuteTime": {
     "end_time": "2024-05-06T11:59:22.373606300Z",
     "start_time": "2024-05-06T11:59:22.362894200Z"
    }
   },
   "cell_type": "code",
   "source": [
    "df = pd.read_csv(\"data_b3_p1.csv\", index_col=0)\n",
    "df"
   ],
   "id": "4bbfea1dfc922653",
   "outputs": [
    {
     "data": {
      "text/plain": "            № бригады  Дневная выработка\n№ рабочего                              \n1                   1                 70\n2                   1                 73\n3                   1                 68\n4                   1                 75\n5                   1                 75\n1                   2                 74\n2                   2                 83\n3                   2                 81\n4                   2                100\n5                   2                 73\n6                   2                 80",
      "text/html": "<div>\n<style scoped>\n    .dataframe tbody tr th:only-of-type {\n        vertical-align: middle;\n    }\n\n    .dataframe tbody tr th {\n        vertical-align: top;\n    }\n\n    .dataframe thead th {\n        text-align: right;\n    }\n</style>\n<table border=\"1\" class=\"dataframe\">\n  <thead>\n    <tr style=\"text-align: right;\">\n      <th></th>\n      <th>№ бригады</th>\n      <th>Дневная выработка</th>\n    </tr>\n    <tr>\n      <th>№ рабочего</th>\n      <th></th>\n      <th></th>\n    </tr>\n  </thead>\n  <tbody>\n    <tr>\n      <th>1</th>\n      <td>1</td>\n      <td>70</td>\n    </tr>\n    <tr>\n      <th>2</th>\n      <td>1</td>\n      <td>73</td>\n    </tr>\n    <tr>\n      <th>3</th>\n      <td>1</td>\n      <td>68</td>\n    </tr>\n    <tr>\n      <th>4</th>\n      <td>1</td>\n      <td>75</td>\n    </tr>\n    <tr>\n      <th>5</th>\n      <td>1</td>\n      <td>75</td>\n    </tr>\n    <tr>\n      <th>1</th>\n      <td>2</td>\n      <td>74</td>\n    </tr>\n    <tr>\n      <th>2</th>\n      <td>2</td>\n      <td>83</td>\n    </tr>\n    <tr>\n      <th>3</th>\n      <td>2</td>\n      <td>81</td>\n    </tr>\n    <tr>\n      <th>4</th>\n      <td>2</td>\n      <td>100</td>\n    </tr>\n    <tr>\n      <th>5</th>\n      <td>2</td>\n      <td>73</td>\n    </tr>\n    <tr>\n      <th>6</th>\n      <td>2</td>\n      <td>80</td>\n    </tr>\n  </tbody>\n</table>\n</div>"
     },
     "execution_count": 2,
     "metadata": {},
     "output_type": "execute_result"
    }
   ],
   "execution_count": 2
  },
  {
   "metadata": {
    "ExecuteTime": {
     "end_time": "2024-05-06T11:59:22.381853900Z",
     "start_time": "2024-05-06T11:59:22.379607600Z"
    }
   },
   "cell_type": "code",
   "source": [
    "brig1 = df.loc[(df['№ бригады'] == 1)]\n",
    "brig1\n",
    "brig2 = df.loc[(df['№ бригады'] == 2)]\n",
    "brig2"
   ],
   "id": "9cdf8cd6e4aac397",
   "outputs": [
    {
     "data": {
      "text/plain": "            № бригады  Дневная выработка\n№ рабочего                              \n1                   2                 74\n2                   2                 83\n3                   2                 81\n4                   2                100\n5                   2                 73\n6                   2                 80",
      "text/html": "<div>\n<style scoped>\n    .dataframe tbody tr th:only-of-type {\n        vertical-align: middle;\n    }\n\n    .dataframe tbody tr th {\n        vertical-align: top;\n    }\n\n    .dataframe thead th {\n        text-align: right;\n    }\n</style>\n<table border=\"1\" class=\"dataframe\">\n  <thead>\n    <tr style=\"text-align: right;\">\n      <th></th>\n      <th>№ бригады</th>\n      <th>Дневная выработка</th>\n    </tr>\n    <tr>\n      <th>№ рабочего</th>\n      <th></th>\n      <th></th>\n    </tr>\n  </thead>\n  <tbody>\n    <tr>\n      <th>1</th>\n      <td>2</td>\n      <td>74</td>\n    </tr>\n    <tr>\n      <th>2</th>\n      <td>2</td>\n      <td>83</td>\n    </tr>\n    <tr>\n      <th>3</th>\n      <td>2</td>\n      <td>81</td>\n    </tr>\n    <tr>\n      <th>4</th>\n      <td>2</td>\n      <td>100</td>\n    </tr>\n    <tr>\n      <th>5</th>\n      <td>2</td>\n      <td>73</td>\n    </tr>\n    <tr>\n      <th>6</th>\n      <td>2</td>\n      <td>80</td>\n    </tr>\n  </tbody>\n</table>\n</div>"
     },
     "execution_count": 3,
     "metadata": {},
     "output_type": "execute_result"
    }
   ],
   "execution_count": 3
  },
  {
   "metadata": {
    "ExecuteTime": {
     "end_time": "2024-05-06T11:59:22.402537300Z",
     "start_time": "2024-05-06T11:59:22.384861600Z"
    }
   },
   "cell_type": "code",
   "source": [
    "mean_mass = [df['Дневная выработка'].mean(),\n",
    "             brig1['Дневная выработка'].mean(),\n",
    "             brig2['Дневная выработка'].mean()]\n",
    "print(f\"Бригада 1: {mean_mass[1]}\", f\"Бригада 2: {mean_mass[2]}\", f\"Общая средняя: {mean_mass[0]}\", sep=\"\\t\")"
   ],
   "id": "f7be31e15baaa009",
   "outputs": [
    {
     "name": "stdout",
     "output_type": "stream",
     "text": [
      "Бригада 1: 72.2\tБригада 2: 81.83333333333333\tОбщая средняя: 77.45454545454545\n"
     ]
    }
   ],
   "execution_count": 4
  },
  {
   "metadata": {
    "ExecuteTime": {
     "end_time": "2024-05-06T11:59:22.402537300Z",
     "start_time": "2024-05-06T11:59:22.392017400Z"
    }
   },
   "cell_type": "code",
   "source": [],
   "id": "9515a7a1d0ae99d0",
   "outputs": [],
   "execution_count": 4
  }
 ],
 "metadata": {
  "kernelspec": {
   "display_name": "Python 3",
   "language": "python",
   "name": "python3"
  },
  "language_info": {
   "codemirror_mode": {
    "name": "ipython",
    "version": 2
   },
   "file_extension": ".py",
   "mimetype": "text/x-python",
   "name": "python",
   "nbconvert_exporter": "python",
   "pygments_lexer": "ipython2",
   "version": "2.7.6"
  }
 },
 "nbformat": 4,
 "nbformat_minor": 5
}
