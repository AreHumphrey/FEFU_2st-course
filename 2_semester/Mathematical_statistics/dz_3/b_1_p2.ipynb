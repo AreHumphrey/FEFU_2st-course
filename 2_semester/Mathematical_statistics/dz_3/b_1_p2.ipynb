{
 "cells": [
  {
   "metadata": {
    "ExecuteTime": {
     "end_time": "2024-05-06T11:48:51.294938500Z",
     "start_time": "2024-05-06T11:48:51.290699900Z"
    }
   },
   "cell_type": "code",
   "source": [
    "import pandas as pd\n",
    "import numpy as np\n",
    "from numpy import log10"
   ],
   "id": "8dfdc68b37e7096",
   "outputs": [],
   "execution_count": 3
  },
  {
   "metadata": {
    "ExecuteTime": {
     "end_time": "2024-05-06T11:48:51.317290100Z",
     "start_time": "2024-05-06T11:48:51.294938500Z"
    }
   },
   "cell_type": "code",
   "source": [
    "df = pd.read_csv(\"data_b1_p2.csv\")\n",
    "n = len(df)\n",
    "df"
   ],
   "id": "b4d460d24ac9d655",
   "outputs": [
    {
     "data": {
      "text/plain": "    Data\n0    7.0\n1    6.0\n2    5.9\n3    9.4\n4    6.5\n5    7.3\n6    7.6\n7    9.3\n8    5.8\n9    7.2\n10   7.1\n11   8.3\n12   7.5\n13   6.8\n14   7.1\n15   9.2\n16   6.1\n17   8.5\n18   7.4\n19   7.8\n20  10.2\n21   9.4\n22   8.8\n23   8.3\n24   7.9\n25   9.2\n26   8.9\n27   9.0\n28   8.7\n29   8.5",
      "text/html": "<div>\n<style scoped>\n    .dataframe tbody tr th:only-of-type {\n        vertical-align: middle;\n    }\n\n    .dataframe tbody tr th {\n        vertical-align: top;\n    }\n\n    .dataframe thead th {\n        text-align: right;\n    }\n</style>\n<table border=\"1\" class=\"dataframe\">\n  <thead>\n    <tr style=\"text-align: right;\">\n      <th></th>\n      <th>Data</th>\n    </tr>\n  </thead>\n  <tbody>\n    <tr>\n      <th>0</th>\n      <td>7.0</td>\n    </tr>\n    <tr>\n      <th>1</th>\n      <td>6.0</td>\n    </tr>\n    <tr>\n      <th>2</th>\n      <td>5.9</td>\n    </tr>\n    <tr>\n      <th>3</th>\n      <td>9.4</td>\n    </tr>\n    <tr>\n      <th>4</th>\n      <td>6.5</td>\n    </tr>\n    <tr>\n      <th>5</th>\n      <td>7.3</td>\n    </tr>\n    <tr>\n      <th>6</th>\n      <td>7.6</td>\n    </tr>\n    <tr>\n      <th>7</th>\n      <td>9.3</td>\n    </tr>\n    <tr>\n      <th>8</th>\n      <td>5.8</td>\n    </tr>\n    <tr>\n      <th>9</th>\n      <td>7.2</td>\n    </tr>\n    <tr>\n      <th>10</th>\n      <td>7.1</td>\n    </tr>\n    <tr>\n      <th>11</th>\n      <td>8.3</td>\n    </tr>\n    <tr>\n      <th>12</th>\n      <td>7.5</td>\n    </tr>\n    <tr>\n      <th>13</th>\n      <td>6.8</td>\n    </tr>\n    <tr>\n      <th>14</th>\n      <td>7.1</td>\n    </tr>\n    <tr>\n      <th>15</th>\n      <td>9.2</td>\n    </tr>\n    <tr>\n      <th>16</th>\n      <td>6.1</td>\n    </tr>\n    <tr>\n      <th>17</th>\n      <td>8.5</td>\n    </tr>\n    <tr>\n      <th>18</th>\n      <td>7.4</td>\n    </tr>\n    <tr>\n      <th>19</th>\n      <td>7.8</td>\n    </tr>\n    <tr>\n      <th>20</th>\n      <td>10.2</td>\n    </tr>\n    <tr>\n      <th>21</th>\n      <td>9.4</td>\n    </tr>\n    <tr>\n      <th>22</th>\n      <td>8.8</td>\n    </tr>\n    <tr>\n      <th>23</th>\n      <td>8.3</td>\n    </tr>\n    <tr>\n      <th>24</th>\n      <td>7.9</td>\n    </tr>\n    <tr>\n      <th>25</th>\n      <td>9.2</td>\n    </tr>\n    <tr>\n      <th>26</th>\n      <td>8.9</td>\n    </tr>\n    <tr>\n      <th>27</th>\n      <td>9.0</td>\n    </tr>\n    <tr>\n      <th>28</th>\n      <td>8.7</td>\n    </tr>\n    <tr>\n      <th>29</th>\n      <td>8.5</td>\n    </tr>\n  </tbody>\n</table>\n</div>"
     },
     "execution_count": 4,
     "metadata": {},
     "output_type": "execute_result"
    }
   ],
   "execution_count": 4
  },
  {
   "metadata": {
    "ExecuteTime": {
     "end_time": "2024-05-06T11:48:51.365072Z",
     "start_time": "2024-05-06T11:48:51.315279Z"
    }
   },
   "cell_type": "code",
   "source": [
    "sdf = df\n",
    "sdf[\"Count\"] = sdf.groupby(\"Data\")['Data'].transform(\"count\")\n",
    "sdf = sdf.groupby(['Data']).head(1).sort_values(by=[\"Data\"]).reset_index(drop=True)\n",
    "sdf"
   ],
   "id": "9ac875edf0037bc4",
   "outputs": [
    {
     "data": {
      "text/plain": "    Data  Count\n0    5.8      1\n1    5.9      1\n2    6.0      1\n3    6.1      1\n4    6.5      1\n5    6.8      1\n6    7.0      1\n7    7.1      2\n8    7.2      1\n9    7.3      1\n10   7.4      1\n11   7.5      1\n12   7.6      1\n13   7.8      1\n14   7.9      1\n15   8.3      2\n16   8.5      2\n17   8.7      1\n18   8.8      1\n19   8.9      1\n20   9.0      1\n21   9.2      2\n22   9.3      1\n23   9.4      2\n24  10.2      1",
      "text/html": "<div>\n<style scoped>\n    .dataframe tbody tr th:only-of-type {\n        vertical-align: middle;\n    }\n\n    .dataframe tbody tr th {\n        vertical-align: top;\n    }\n\n    .dataframe thead th {\n        text-align: right;\n    }\n</style>\n<table border=\"1\" class=\"dataframe\">\n  <thead>\n    <tr style=\"text-align: right;\">\n      <th></th>\n      <th>Data</th>\n      <th>Count</th>\n    </tr>\n  </thead>\n  <tbody>\n    <tr>\n      <th>0</th>\n      <td>5.8</td>\n      <td>1</td>\n    </tr>\n    <tr>\n      <th>1</th>\n      <td>5.9</td>\n      <td>1</td>\n    </tr>\n    <tr>\n      <th>2</th>\n      <td>6.0</td>\n      <td>1</td>\n    </tr>\n    <tr>\n      <th>3</th>\n      <td>6.1</td>\n      <td>1</td>\n    </tr>\n    <tr>\n      <th>4</th>\n      <td>6.5</td>\n      <td>1</td>\n    </tr>\n    <tr>\n      <th>5</th>\n      <td>6.8</td>\n      <td>1</td>\n    </tr>\n    <tr>\n      <th>6</th>\n      <td>7.0</td>\n      <td>1</td>\n    </tr>\n    <tr>\n      <th>7</th>\n      <td>7.1</td>\n      <td>2</td>\n    </tr>\n    <tr>\n      <th>8</th>\n      <td>7.2</td>\n      <td>1</td>\n    </tr>\n    <tr>\n      <th>9</th>\n      <td>7.3</td>\n      <td>1</td>\n    </tr>\n    <tr>\n      <th>10</th>\n      <td>7.4</td>\n      <td>1</td>\n    </tr>\n    <tr>\n      <th>11</th>\n      <td>7.5</td>\n      <td>1</td>\n    </tr>\n    <tr>\n      <th>12</th>\n      <td>7.6</td>\n      <td>1</td>\n    </tr>\n    <tr>\n      <th>13</th>\n      <td>7.8</td>\n      <td>1</td>\n    </tr>\n    <tr>\n      <th>14</th>\n      <td>7.9</td>\n      <td>1</td>\n    </tr>\n    <tr>\n      <th>15</th>\n      <td>8.3</td>\n      <td>2</td>\n    </tr>\n    <tr>\n      <th>16</th>\n      <td>8.5</td>\n      <td>2</td>\n    </tr>\n    <tr>\n      <th>17</th>\n      <td>8.7</td>\n      <td>1</td>\n    </tr>\n    <tr>\n      <th>18</th>\n      <td>8.8</td>\n      <td>1</td>\n    </tr>\n    <tr>\n      <th>19</th>\n      <td>8.9</td>\n      <td>1</td>\n    </tr>\n    <tr>\n      <th>20</th>\n      <td>9.0</td>\n      <td>1</td>\n    </tr>\n    <tr>\n      <th>21</th>\n      <td>9.2</td>\n      <td>2</td>\n    </tr>\n    <tr>\n      <th>22</th>\n      <td>9.3</td>\n      <td>1</td>\n    </tr>\n    <tr>\n      <th>23</th>\n      <td>9.4</td>\n      <td>2</td>\n    </tr>\n    <tr>\n      <th>24</th>\n      <td>10.2</td>\n      <td>1</td>\n    </tr>\n  </tbody>\n</table>\n</div>"
     },
     "execution_count": 5,
     "metadata": {},
     "output_type": "execute_result"
    }
   ],
   "execution_count": 5
  },
  {
   "metadata": {
    "ExecuteTime": {
     "end_time": "2024-05-06T11:48:51.380039300Z",
     "start_time": "2024-05-06T11:48:51.326263700Z"
    }
   },
   "cell_type": "code",
   "source": [
    "k = int(round(1 + 3.22*log10(n), 0))\n",
    "r = round((max(sdf['Data']) - min(sdf['Data'])), 1)\n",
    "h = round(r/k, 1)\n",
    "print(n, k, r, h)"
   ],
   "id": "cb545ac433e8d186",
   "outputs": [
    {
     "name": "stdout",
     "output_type": "stream",
     "text": [
      "30 6 4.4 0.7\n"
     ]
    }
   ],
   "execution_count": 6
  },
  {
   "metadata": {
    "ExecuteTime": {
     "end_time": "2024-05-06T11:48:51.392184300Z",
     "start_time": "2024-05-06T11:48:51.332019800Z"
    }
   },
   "cell_type": "code",
   "source": [
    "line_ndf = pd.Series(df['Data'].to_numpy().reshape(-1), index=df['Data'].to_numpy().reshape(-1))\n",
    "line_ndf\n",
    "cut_df = pd.cut(line_ndf, bins=k, right=False, retbins=True, precision=1)[0]\n",
    "cut_df\n",
    "freq_df = cut_df.groupby(cut_df, observed=True).count()\n",
    "freq_df"
   ],
   "id": "a35e1a2ad3ff8813",
   "outputs": [
    {
     "data": {
      "text/plain": "[5.8, 6.5)     5\n[6.5, 7.3)     5\n[7.3, 8.0)     6\n[8.0, 8.7)     5\n[8.7, 9.5)     8\n[9.5, 10.2)    1\ndtype: int64"
     },
     "execution_count": 7,
     "metadata": {},
     "output_type": "execute_result"
    }
   ],
   "execution_count": 7
  },
  {
   "metadata": {
    "ExecuteTime": {
     "end_time": "2024-05-06T11:48:51.397423600Z",
     "start_time": "2024-05-06T11:48:51.346969400Z"
    }
   },
   "cell_type": "code",
   "source": [
    "int_df = pd.DataFrame(index = freq_df.index)\n",
    "int_df['Середина интервала'] = np.array([min(sdf['Data']) + h/2 + h*i for i in range(k)])\n",
    "int_df['Частота'] = freq_df.values\n",
    "int_df = int_df.assign(ПлотностьЧастоты = lambda row: (row['Частота']/h))\n",
    "int_df = int_df.assign(ОтносительнаяЧастота = lambda row: (row['Частота']/n))\n",
    "int_df = int_df.assign(ПлотностьОтносительнойЧастоты = lambda row: (row['ОтносительнаяЧастота']/h))\n",
    "int_df"
   ],
   "id": "5c43102ea3b7d79a",
   "outputs": [
    {
     "data": {
      "text/plain": "             Середина интервала  Частота  ПлотностьЧастоты  \\\n[5.8, 6.5)                 6.15        5          7.142857   \n[6.5, 7.3)                 6.85        5          7.142857   \n[7.3, 8.0)                 7.55        6          8.571429   \n[8.0, 8.7)                 8.25        5          7.142857   \n[8.7, 9.5)                 8.95        8         11.428571   \n[9.5, 10.2)                9.65        1          1.428571   \n\n             ОтносительнаяЧастота  ПлотностьОтносительнойЧастоты  \n[5.8, 6.5)               0.166667                       0.238095  \n[6.5, 7.3)               0.166667                       0.238095  \n[7.3, 8.0)               0.200000                       0.285714  \n[8.0, 8.7)               0.166667                       0.238095  \n[8.7, 9.5)               0.266667                       0.380952  \n[9.5, 10.2)              0.033333                       0.047619  ",
      "text/html": "<div>\n<style scoped>\n    .dataframe tbody tr th:only-of-type {\n        vertical-align: middle;\n    }\n\n    .dataframe tbody tr th {\n        vertical-align: top;\n    }\n\n    .dataframe thead th {\n        text-align: right;\n    }\n</style>\n<table border=\"1\" class=\"dataframe\">\n  <thead>\n    <tr style=\"text-align: right;\">\n      <th></th>\n      <th>Середина интервала</th>\n      <th>Частота</th>\n      <th>ПлотностьЧастоты</th>\n      <th>ОтносительнаяЧастота</th>\n      <th>ПлотностьОтносительнойЧастоты</th>\n    </tr>\n  </thead>\n  <tbody>\n    <tr>\n      <th>[5.8, 6.5)</th>\n      <td>6.15</td>\n      <td>5</td>\n      <td>7.142857</td>\n      <td>0.166667</td>\n      <td>0.238095</td>\n    </tr>\n    <tr>\n      <th>[6.5, 7.3)</th>\n      <td>6.85</td>\n      <td>5</td>\n      <td>7.142857</td>\n      <td>0.166667</td>\n      <td>0.238095</td>\n    </tr>\n    <tr>\n      <th>[7.3, 8.0)</th>\n      <td>7.55</td>\n      <td>6</td>\n      <td>8.571429</td>\n      <td>0.200000</td>\n      <td>0.285714</td>\n    </tr>\n    <tr>\n      <th>[8.0, 8.7)</th>\n      <td>8.25</td>\n      <td>5</td>\n      <td>7.142857</td>\n      <td>0.166667</td>\n      <td>0.238095</td>\n    </tr>\n    <tr>\n      <th>[8.7, 9.5)</th>\n      <td>8.95</td>\n      <td>8</td>\n      <td>11.428571</td>\n      <td>0.266667</td>\n      <td>0.380952</td>\n    </tr>\n    <tr>\n      <th>[9.5, 10.2)</th>\n      <td>9.65</td>\n      <td>1</td>\n      <td>1.428571</td>\n      <td>0.033333</td>\n      <td>0.047619</td>\n    </tr>\n  </tbody>\n</table>\n</div>"
     },
     "execution_count": 8,
     "metadata": {},
     "output_type": "execute_result"
    }
   ],
   "execution_count": 8
  },
  {
   "metadata": {
    "ExecuteTime": {
     "end_time": "2024-05-06T11:48:51.427757Z",
     "start_time": "2024-05-06T11:48:51.362070500Z"
    }
   },
   "cell_type": "code",
   "source": [
    "int_df.sort_values(by=['Частота'], ascending=False).head(1)"
   ],
   "id": "f2def187929c5af3",
   "outputs": [
    {
     "data": {
      "text/plain": "            Середина интервала  Частота  ПлотностьЧастоты  \\\n[8.7, 9.5)                8.95        8         11.428571   \n\n            ОтносительнаяЧастота  ПлотностьОтносительнойЧастоты  \n[8.7, 9.5)              0.266667                       0.380952  ",
      "text/html": "<div>\n<style scoped>\n    .dataframe tbody tr th:only-of-type {\n        vertical-align: middle;\n    }\n\n    .dataframe tbody tr th {\n        vertical-align: top;\n    }\n\n    .dataframe thead th {\n        text-align: right;\n    }\n</style>\n<table border=\"1\" class=\"dataframe\">\n  <thead>\n    <tr style=\"text-align: right;\">\n      <th></th>\n      <th>Середина интервала</th>\n      <th>Частота</th>\n      <th>ПлотностьЧастоты</th>\n      <th>ОтносительнаяЧастота</th>\n      <th>ПлотностьОтносительнойЧастоты</th>\n    </tr>\n  </thead>\n  <tbody>\n    <tr>\n      <th>[8.7, 9.5)</th>\n      <td>8.95</td>\n      <td>8</td>\n      <td>11.428571</td>\n      <td>0.266667</td>\n      <td>0.380952</td>\n    </tr>\n  </tbody>\n</table>\n</div>"
     },
     "execution_count": 9,
     "metadata": {},
     "output_type": "execute_result"
    }
   ],
   "execution_count": 9
  },
  {
   "metadata": {
    "ExecuteTime": {
     "end_time": "2024-05-06T11:48:51.427757Z",
     "start_time": "2024-05-06T11:48:51.372678800Z"
    }
   },
   "cell_type": "code",
   "source": [],
   "id": "c09a898554803212",
   "outputs": [],
   "execution_count": 9
  }
 ],
 "metadata": {
  "kernelspec": {
   "display_name": "Python 3",
   "language": "python",
   "name": "python3"
  },
  "language_info": {
   "codemirror_mode": {
    "name": "ipython",
    "version": 2
   },
   "file_extension": ".py",
   "mimetype": "text/x-python",
   "name": "python",
   "nbconvert_exporter": "python",
   "pygments_lexer": "ipython2",
   "version": "2.7.6"
  }
 },
 "nbformat": 4,
 "nbformat_minor": 5
}
