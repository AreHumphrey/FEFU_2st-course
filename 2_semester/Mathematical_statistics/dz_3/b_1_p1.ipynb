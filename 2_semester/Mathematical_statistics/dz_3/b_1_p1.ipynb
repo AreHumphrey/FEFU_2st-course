{
 "cells": [
  {
   "cell_type": "code",
   "id": "initial_id",
   "metadata": {
    "collapsed": true,
    "ExecuteTime": {
     "end_time": "2024-05-06T11:20:26.097729900Z",
     "start_time": "2024-05-06T11:20:26.092089800Z"
    }
   },
   "source": [
    "import pandas as pd"
   ],
   "outputs": [],
   "execution_count": 24
  },
  {
   "metadata": {
    "ExecuteTime": {
     "end_time": "2024-05-06T11:20:26.105210700Z",
     "start_time": "2024-05-06T11:20:26.096608200Z"
    }
   },
   "cell_type": "code",
   "source": [
    "df = pd.read_csv(\"data_b1_p1.csv\")\n",
    "df"
   ],
   "id": "bbd7eea9d01a1b5b",
   "outputs": [
    {
     "data": {
      "text/plain": "    Data\n0      3\n1      2\n2      5\n3      4\n4      6\n5      5\n6      3\n7      2\n8      4\n9      3\n10     4\n11     2\n12     3\n13     2\n14     5\n15     2\n16     3\n17     4\n18     2\n19     5\n20     7\n21     6",
      "text/html": "<div>\n<style scoped>\n    .dataframe tbody tr th:only-of-type {\n        vertical-align: middle;\n    }\n\n    .dataframe tbody tr th {\n        vertical-align: top;\n    }\n\n    .dataframe thead th {\n        text-align: right;\n    }\n</style>\n<table border=\"1\" class=\"dataframe\">\n  <thead>\n    <tr style=\"text-align: right;\">\n      <th></th>\n      <th>Data</th>\n    </tr>\n  </thead>\n  <tbody>\n    <tr>\n      <th>0</th>\n      <td>3</td>\n    </tr>\n    <tr>\n      <th>1</th>\n      <td>2</td>\n    </tr>\n    <tr>\n      <th>2</th>\n      <td>5</td>\n    </tr>\n    <tr>\n      <th>3</th>\n      <td>4</td>\n    </tr>\n    <tr>\n      <th>4</th>\n      <td>6</td>\n    </tr>\n    <tr>\n      <th>5</th>\n      <td>5</td>\n    </tr>\n    <tr>\n      <th>6</th>\n      <td>3</td>\n    </tr>\n    <tr>\n      <th>7</th>\n      <td>2</td>\n    </tr>\n    <tr>\n      <th>8</th>\n      <td>4</td>\n    </tr>\n    <tr>\n      <th>9</th>\n      <td>3</td>\n    </tr>\n    <tr>\n      <th>10</th>\n      <td>4</td>\n    </tr>\n    <tr>\n      <th>11</th>\n      <td>2</td>\n    </tr>\n    <tr>\n      <th>12</th>\n      <td>3</td>\n    </tr>\n    <tr>\n      <th>13</th>\n      <td>2</td>\n    </tr>\n    <tr>\n      <th>14</th>\n      <td>5</td>\n    </tr>\n    <tr>\n      <th>15</th>\n      <td>2</td>\n    </tr>\n    <tr>\n      <th>16</th>\n      <td>3</td>\n    </tr>\n    <tr>\n      <th>17</th>\n      <td>4</td>\n    </tr>\n    <tr>\n      <th>18</th>\n      <td>2</td>\n    </tr>\n    <tr>\n      <th>19</th>\n      <td>5</td>\n    </tr>\n    <tr>\n      <th>20</th>\n      <td>7</td>\n    </tr>\n    <tr>\n      <th>21</th>\n      <td>6</td>\n    </tr>\n  </tbody>\n</table>\n</div>"
     },
     "execution_count": 25,
     "metadata": {},
     "output_type": "execute_result"
    }
   ],
   "execution_count": 25
  },
  {
   "metadata": {
    "ExecuteTime": {
     "end_time": "2024-05-06T11:20:26.133189700Z",
     "start_time": "2024-05-06T11:20:26.112722300Z"
    }
   },
   "cell_type": "code",
   "source": [
    "df[\"Количество\"] = df.groupby(\"Data\")['Data'].transform(\"count\")\n",
    "df = df.groupby(['Data']).head(1).sort_values(by=[\"Data\"]).reset_index(drop=True)\n",
    "df"
   ],
   "id": "3fb5ab92d4eadfb6",
   "outputs": [
    {
     "data": {
      "text/plain": "   Data  Количество\n0     2           6\n1     3           5\n2     4           4\n3     5           4\n4     6           2\n5     7           1",
      "text/html": "<div>\n<style scoped>\n    .dataframe tbody tr th:only-of-type {\n        vertical-align: middle;\n    }\n\n    .dataframe tbody tr th {\n        vertical-align: top;\n    }\n\n    .dataframe thead th {\n        text-align: right;\n    }\n</style>\n<table border=\"1\" class=\"dataframe\">\n  <thead>\n    <tr style=\"text-align: right;\">\n      <th></th>\n      <th>Data</th>\n      <th>Количество</th>\n    </tr>\n  </thead>\n  <tbody>\n    <tr>\n      <th>0</th>\n      <td>2</td>\n      <td>6</td>\n    </tr>\n    <tr>\n      <th>1</th>\n      <td>3</td>\n      <td>5</td>\n    </tr>\n    <tr>\n      <th>2</th>\n      <td>4</td>\n      <td>4</td>\n    </tr>\n    <tr>\n      <th>3</th>\n      <td>5</td>\n      <td>4</td>\n    </tr>\n    <tr>\n      <th>4</th>\n      <td>6</td>\n      <td>2</td>\n    </tr>\n    <tr>\n      <th>5</th>\n      <td>7</td>\n      <td>1</td>\n    </tr>\n  </tbody>\n</table>\n</div>"
     },
     "execution_count": 26,
     "metadata": {},
     "output_type": "execute_result"
    }
   ],
   "execution_count": 26
  },
  {
   "metadata": {
    "ExecuteTime": {
     "end_time": "2024-05-06T11:20:26.172483900Z",
     "start_time": "2024-05-06T11:20:26.116705700Z"
    }
   },
   "cell_type": "code",
   "source": [
    "df = df.assign(RelFreq=lambda x: (x['Data']/x['Количество']))\n",
    "df"
   ],
   "id": "bc6c4a85316ee61b",
   "outputs": [
    {
     "data": {
      "text/plain": "   Data  Количество   RelFreq\n0     2           6  0.333333\n1     3           5  0.600000\n2     4           4  1.000000\n3     5           4  1.250000\n4     6           2  3.000000\n5     7           1  7.000000",
      "text/html": "<div>\n<style scoped>\n    .dataframe tbody tr th:only-of-type {\n        vertical-align: middle;\n    }\n\n    .dataframe tbody tr th {\n        vertical-align: top;\n    }\n\n    .dataframe thead th {\n        text-align: right;\n    }\n</style>\n<table border=\"1\" class=\"dataframe\">\n  <thead>\n    <tr style=\"text-align: right;\">\n      <th></th>\n      <th>Data</th>\n      <th>Количество</th>\n      <th>RelFreq</th>\n    </tr>\n  </thead>\n  <tbody>\n    <tr>\n      <th>0</th>\n      <td>2</td>\n      <td>6</td>\n      <td>0.333333</td>\n    </tr>\n    <tr>\n      <th>1</th>\n      <td>3</td>\n      <td>5</td>\n      <td>0.600000</td>\n    </tr>\n    <tr>\n      <th>2</th>\n      <td>4</td>\n      <td>4</td>\n      <td>1.000000</td>\n    </tr>\n    <tr>\n      <th>3</th>\n      <td>5</td>\n      <td>4</td>\n      <td>1.250000</td>\n    </tr>\n    <tr>\n      <th>4</th>\n      <td>6</td>\n      <td>2</td>\n      <td>3.000000</td>\n    </tr>\n    <tr>\n      <th>5</th>\n      <td>7</td>\n      <td>1</td>\n      <td>7.000000</td>\n    </tr>\n  </tbody>\n</table>\n</div>"
     },
     "execution_count": 27,
     "metadata": {},
     "output_type": "execute_result"
    }
   ],
   "execution_count": 27
  },
  {
   "metadata": {
    "ExecuteTime": {
     "end_time": "2024-05-06T11:20:26.172483900Z",
     "start_time": "2024-05-06T11:20:26.125764300Z"
    }
   },
   "cell_type": "code",
   "outputs": [],
   "execution_count": 27,
   "source": [],
   "id": "6bea1ed71f6f135c"
  }
 ],
 "metadata": {
  "kernelspec": {
   "display_name": "Python 3",
   "language": "python",
   "name": "python3"
  },
  "language_info": {
   "codemirror_mode": {
    "name": "ipython",
    "version": 2
   },
   "file_extension": ".py",
   "mimetype": "text/x-python",
   "name": "python",
   "nbconvert_exporter": "python",
   "pygments_lexer": "ipython2",
   "version": "2.7.6"
  }
 },
 "nbformat": 4,
 "nbformat_minor": 5
}
