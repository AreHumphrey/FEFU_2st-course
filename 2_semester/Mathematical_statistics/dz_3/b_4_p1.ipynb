{
 "cells": [
  {
   "cell_type": "code",
   "id": "initial_id",
   "metadata": {
    "collapsed": true,
    "ExecuteTime": {
     "end_time": "2024-05-06T12:01:21.665722700Z",
     "start_time": "2024-05-06T12:01:21.248335500Z"
    }
   },
   "source": [
    "import pandas as pd"
   ],
   "outputs": [],
   "execution_count": 1
  },
  {
   "metadata": {
    "ExecuteTime": {
     "end_time": "2024-05-06T12:01:21.683237200Z",
     "start_time": "2024-05-06T12:01:21.666724900Z"
    }
   },
   "cell_type": "code",
   "source": [
    "df = pd.read_csv(\"data_b4_p1.csv\", index_col=0)\n",
    "df"
   ],
   "id": "159b129fbb553e4d",
   "outputs": [
    {
     "data": {
      "text/plain": "                     Число студентов\nОценки                              \nОтлично                            7\nХорошо                            18\nУдовлетворительно                  6\nНеудовлетворительно                2",
      "text/html": "<div>\n<style scoped>\n    .dataframe tbody tr th:only-of-type {\n        vertical-align: middle;\n    }\n\n    .dataframe tbody tr th {\n        vertical-align: top;\n    }\n\n    .dataframe thead th {\n        text-align: right;\n    }\n</style>\n<table border=\"1\" class=\"dataframe\">\n  <thead>\n    <tr style=\"text-align: right;\">\n      <th></th>\n      <th>Число студентов</th>\n    </tr>\n    <tr>\n      <th>Оценки</th>\n      <th></th>\n    </tr>\n  </thead>\n  <tbody>\n    <tr>\n      <th>Отлично</th>\n      <td>7</td>\n    </tr>\n    <tr>\n      <th>Хорошо</th>\n      <td>18</td>\n    </tr>\n    <tr>\n      <th>Удовлетворительно</th>\n      <td>6</td>\n    </tr>\n    <tr>\n      <th>Неудовлетворительно</th>\n      <td>2</td>\n    </tr>\n  </tbody>\n</table>\n</div>"
     },
     "execution_count": 2,
     "metadata": {},
     "output_type": "execute_result"
    }
   ],
   "execution_count": 2
  },
  {
   "metadata": {
    "ExecuteTime": {
     "end_time": "2024-05-06T12:01:21.688383600Z",
     "start_time": "2024-05-06T12:01:21.683666800Z"
    }
   },
   "cell_type": "code",
   "source": [
    "mod = df.loc[df['Число студентов'] == max(df['Число студентов'])].index[0]\n",
    "mod"
   ],
   "id": "7e9aa0fc0667141c",
   "outputs": [
    {
     "data": {
      "text/plain": "'Хорошо'"
     },
     "execution_count": 3,
     "metadata": {},
     "output_type": "execute_result"
    }
   ],
   "execution_count": 3
  },
  {
   "metadata": {
    "ExecuteTime": {
     "end_time": "2024-05-06T12:01:21.697427500Z",
     "start_time": "2024-05-06T12:01:21.688383600Z"
    }
   },
   "cell_type": "code",
   "source": [
    "\n",
    "cdf = df.sort_values(by=['Число студентов']).cumsum()\n",
    "\n",
    "mid_index = (cdf.loc['Хорошо']['Число студентов'] + 1) / 2\n",
    "mid_index\n",
    "\n",
    "cdf = cdf.sort_values(by=['Число студентов'], ascending=False)\n",
    "cdf.loc[(cdf['Число студентов'] >= mid_index)].sort_values(by=['Число студентов'], ascending=True).head(1).index[0]\n"
   ],
   "id": "3a747c9890160cdf",
   "outputs": [
    {
     "data": {
      "text/plain": "'Хорошо'"
     },
     "execution_count": 4,
     "metadata": {},
     "output_type": "execute_result"
    }
   ],
   "execution_count": 4
  },
  {
   "metadata": {
    "ExecuteTime": {
     "end_time": "2024-05-06T12:01:21.722515200Z",
     "start_time": "2024-05-06T12:01:21.697427500Z"
    }
   },
   "cell_type": "code",
   "outputs": [],
   "execution_count": 4,
   "source": [],
   "id": "c6188ec12aeae178"
  }
 ],
 "metadata": {
  "kernelspec": {
   "display_name": "Python 3",
   "language": "python",
   "name": "python3"
  },
  "language_info": {
   "codemirror_mode": {
    "name": "ipython",
    "version": 2
   },
   "file_extension": ".py",
   "mimetype": "text/x-python",
   "name": "python",
   "nbconvert_exporter": "python",
   "pygments_lexer": "ipython2",
   "version": "2.7.6"
  }
 },
 "nbformat": 4,
 "nbformat_minor": 5
}
