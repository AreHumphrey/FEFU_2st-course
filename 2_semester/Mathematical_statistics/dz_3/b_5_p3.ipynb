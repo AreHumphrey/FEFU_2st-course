{
 "cells": [
  {
   "cell_type": "code",
   "id": "initial_id",
   "metadata": {
    "collapsed": true,
    "ExecuteTime": {
     "end_time": "2024-05-06T12:12:24.727801500Z",
     "start_time": "2024-05-06T12:12:23.980460700Z"
    }
   },
   "source": [
    "import pandas as pd\n",
    "from math import sqrt"
   ],
   "outputs": [],
   "execution_count": 1
  },
  {
   "metadata": {
    "ExecuteTime": {
     "end_time": "2024-05-06T12:12:24.754426Z",
     "start_time": "2024-05-06T12:12:24.732898100Z"
    }
   },
   "cell_type": "code",
   "source": [
    "df = pd.read_csv('data_b5_p3.csv')\n",
    "df"
   ],
   "id": "c77821a4f8a2c2e",
   "outputs": [
    {
     "data": {
      "text/plain": "   Тип оборудования Коэффициент использования  Число единиц оборудования\n0    Энергетическое                      0.6<                          1\n1    Энергетическое                   0.6-0.7                         24\n2    Энергетическое                   0.7-0.8                         20\n3    Энергетическое                      >0.8                         12\n4  Производственное                      0.8<                         15\n5  Производственное                  0.8-0.85                         16\n6  Производственное                  0.85-0.9                         18\n7  Производственное                      >0.9                         15",
      "text/html": "<div>\n<style scoped>\n    .dataframe tbody tr th:only-of-type {\n        vertical-align: middle;\n    }\n\n    .dataframe tbody tr th {\n        vertical-align: top;\n    }\n\n    .dataframe thead th {\n        text-align: right;\n    }\n</style>\n<table border=\"1\" class=\"dataframe\">\n  <thead>\n    <tr style=\"text-align: right;\">\n      <th></th>\n      <th>Тип оборудования</th>\n      <th>Коэффициент использования</th>\n      <th>Число единиц оборудования</th>\n    </tr>\n  </thead>\n  <tbody>\n    <tr>\n      <th>0</th>\n      <td>Энергетическое</td>\n      <td>0.6&lt;</td>\n      <td>1</td>\n    </tr>\n    <tr>\n      <th>1</th>\n      <td>Энергетическое</td>\n      <td>0.6-0.7</td>\n      <td>24</td>\n    </tr>\n    <tr>\n      <th>2</th>\n      <td>Энергетическое</td>\n      <td>0.7-0.8</td>\n      <td>20</td>\n    </tr>\n    <tr>\n      <th>3</th>\n      <td>Энергетическое</td>\n      <td>&gt;0.8</td>\n      <td>12</td>\n    </tr>\n    <tr>\n      <th>4</th>\n      <td>Производственное</td>\n      <td>0.8&lt;</td>\n      <td>15</td>\n    </tr>\n    <tr>\n      <th>5</th>\n      <td>Производственное</td>\n      <td>0.8-0.85</td>\n      <td>16</td>\n    </tr>\n    <tr>\n      <th>6</th>\n      <td>Производственное</td>\n      <td>0.85-0.9</td>\n      <td>18</td>\n    </tr>\n    <tr>\n      <th>7</th>\n      <td>Производственное</td>\n      <td>&gt;0.9</td>\n      <td>15</td>\n    </tr>\n  </tbody>\n</table>\n</div>"
     },
     "execution_count": 2,
     "metadata": {},
     "output_type": "execute_result"
    }
   ],
   "execution_count": 2
  },
  {
   "metadata": {
    "ExecuteTime": {
     "end_time": "2024-05-06T12:12:24.779180100Z",
     "start_time": "2024-05-06T12:12:24.758482Z"
    }
   },
   "cell_type": "code",
   "source": [
    "en_df = df.loc[df['Тип оборудования'] == 'Энергетическое'].reset_index(drop=True)\n",
    "mid_int = [0.3, 0.65, 0.75, 0.9]\n",
    "en_df['Середина интервала'] = mid_int\n",
    "en_df"
   ],
   "id": "d7963fadbafb7e78",
   "outputs": [
    {
     "data": {
      "text/plain": "  Тип оборудования Коэффициент использования  Число единиц оборудования  \\\n0   Энергетическое                      0.6<                          1   \n1   Энергетическое                   0.6-0.7                         24   \n2   Энергетическое                   0.7-0.8                         20   \n3   Энергетическое                      >0.8                         12   \n\n   Середина интервала  \n0                0.30  \n1                0.65  \n2                0.75  \n3                0.90  ",
      "text/html": "<div>\n<style scoped>\n    .dataframe tbody tr th:only-of-type {\n        vertical-align: middle;\n    }\n\n    .dataframe tbody tr th {\n        vertical-align: top;\n    }\n\n    .dataframe thead th {\n        text-align: right;\n    }\n</style>\n<table border=\"1\" class=\"dataframe\">\n  <thead>\n    <tr style=\"text-align: right;\">\n      <th></th>\n      <th>Тип оборудования</th>\n      <th>Коэффициент использования</th>\n      <th>Число единиц оборудования</th>\n      <th>Середина интервала</th>\n    </tr>\n  </thead>\n  <tbody>\n    <tr>\n      <th>0</th>\n      <td>Энергетическое</td>\n      <td>0.6&lt;</td>\n      <td>1</td>\n      <td>0.30</td>\n    </tr>\n    <tr>\n      <th>1</th>\n      <td>Энергетическое</td>\n      <td>0.6-0.7</td>\n      <td>24</td>\n      <td>0.65</td>\n    </tr>\n    <tr>\n      <th>2</th>\n      <td>Энергетическое</td>\n      <td>0.7-0.8</td>\n      <td>20</td>\n      <td>0.75</td>\n    </tr>\n    <tr>\n      <th>3</th>\n      <td>Энергетическое</td>\n      <td>&gt;0.8</td>\n      <td>12</td>\n      <td>0.90</td>\n    </tr>\n  </tbody>\n</table>\n</div>"
     },
     "execution_count": 3,
     "metadata": {},
     "output_type": "execute_result"
    }
   ],
   "execution_count": 3
  },
  {
   "metadata": {
    "ExecuteTime": {
     "end_time": "2024-05-06T12:12:24.885266Z",
     "start_time": "2024-05-06T12:12:24.774439100Z"
    }
   },
   "cell_type": "code",
   "source": [
    "prom_df = df.loc[df['Тип оборудования'] == 'Производственное'].reset_index(drop=True)\n",
    "mid_int = [0.4, 0.825, 0.875, 0.95]\n",
    "prom_df['Середина интервала'] = mid_int\n",
    "prom_df"
   ],
   "id": "b9a75ac77345d0f6",
   "outputs": [
    {
     "data": {
      "text/plain": "   Тип оборудования Коэффициент использования  Число единиц оборудования  \\\n0  Производственное                      0.8<                         15   \n1  Производственное                  0.8-0.85                         16   \n2  Производственное                  0.85-0.9                         18   \n3  Производственное                      >0.9                         15   \n\n   Середина интервала  \n0               0.400  \n1               0.825  \n2               0.875  \n3               0.950  ",
      "text/html": "<div>\n<style scoped>\n    .dataframe tbody tr th:only-of-type {\n        vertical-align: middle;\n    }\n\n    .dataframe tbody tr th {\n        vertical-align: top;\n    }\n\n    .dataframe thead th {\n        text-align: right;\n    }\n</style>\n<table border=\"1\" class=\"dataframe\">\n  <thead>\n    <tr style=\"text-align: right;\">\n      <th></th>\n      <th>Тип оборудования</th>\n      <th>Коэффициент использования</th>\n      <th>Число единиц оборудования</th>\n      <th>Середина интервала</th>\n    </tr>\n  </thead>\n  <tbody>\n    <tr>\n      <th>0</th>\n      <td>Производственное</td>\n      <td>0.8&lt;</td>\n      <td>15</td>\n      <td>0.400</td>\n    </tr>\n    <tr>\n      <th>1</th>\n      <td>Производственное</td>\n      <td>0.8-0.85</td>\n      <td>16</td>\n      <td>0.825</td>\n    </tr>\n    <tr>\n      <th>2</th>\n      <td>Производственное</td>\n      <td>0.85-0.9</td>\n      <td>18</td>\n      <td>0.875</td>\n    </tr>\n    <tr>\n      <th>3</th>\n      <td>Производственное</td>\n      <td>&gt;0.9</td>\n      <td>15</td>\n      <td>0.950</td>\n    </tr>\n  </tbody>\n</table>\n</div>"
     },
     "execution_count": 4,
     "metadata": {},
     "output_type": "execute_result"
    }
   ],
   "execution_count": 4
  },
  {
   "metadata": {
    "ExecuteTime": {
     "end_time": "2024-05-06T12:12:24.925251500Z",
     "start_time": "2024-05-06T12:12:24.804500300Z"
    }
   },
   "cell_type": "code",
   "source": [
    "def get_coef(adf):\n",
    "    cdf = adf.copy()\n",
    "    total_freq = sum(cdf['Число единиц оборудования'])\n",
    "    cdf['Варианта (s)'] = cdf['Число единиц оборудования'] * cdf['Середина интервала']\n",
    "\n",
    "    selective_mean = sum(cdf['Варианта (s)']) / total_freq\n",
    "    \n",
    "    cdf['Разность (d)'] = round(cdf['Середина интервала'] - selective_mean, 1)\n",
    "    cdf['Частота (f)'] = abs(cdf['Разность (d)']) * cdf['Число единиц оборудования']\n",
    "    cdf['Частота (2f)'] = (cdf['Разность (d)'] ** 2) * cdf['Число единиц оборудования']\n",
    "\n",
    "    disp = sum(cdf['Частота (2f)']) / total_freq\n",
    "    coef_var = sqrt(disp) / selective_mean * 100\n",
    "    return coef_var"
   ],
   "id": "2dc4435d0f0dc856",
   "outputs": [],
   "execution_count": 5
  },
  {
   "metadata": {
    "ExecuteTime": {
     "end_time": "2024-05-06T12:12:24.942655500Z",
     "start_time": "2024-05-06T12:12:24.811249200Z"
    }
   },
   "cell_type": "code",
   "source": [
    "get_coef(prom_df)"
   ],
   "id": "25d64b4bf3a0d56b",
   "outputs": [
    {
     "data": {
      "text/plain": "29.716531516255394"
     },
     "execution_count": 6,
     "metadata": {},
     "output_type": "execute_result"
    }
   ],
   "execution_count": 6
  },
  {
   "metadata": {
    "ExecuteTime": {
     "end_time": "2024-05-06T12:12:24.942655500Z",
     "start_time": "2024-05-06T12:12:24.821493900Z"
    }
   },
   "cell_type": "code",
   "source": [
    "get_coef(en_df)"
   ],
   "id": "f323423f3c237c1",
   "outputs": [
    {
     "data": {
      "text/plain": "16.98410667590002"
     },
     "execution_count": 7,
     "metadata": {},
     "output_type": "execute_result"
    }
   ],
   "execution_count": 7
  }
 ],
 "metadata": {
  "kernelspec": {
   "display_name": "Python 3",
   "language": "python",
   "name": "python3"
  },
  "language_info": {
   "codemirror_mode": {
    "name": "ipython",
    "version": 2
   },
   "file_extension": ".py",
   "mimetype": "text/x-python",
   "name": "python",
   "nbconvert_exporter": "python",
   "pygments_lexer": "ipython2",
   "version": "2.7.6"
  }
 },
 "nbformat": 4,
 "nbformat_minor": 5
}
