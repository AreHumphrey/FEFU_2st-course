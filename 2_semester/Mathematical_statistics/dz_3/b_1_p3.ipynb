{
 "cells": [
  {
   "cell_type": "code",
   "id": "initial_id",
   "metadata": {
    "collapsed": true,
    "ExecuteTime": {
     "end_time": "2024-05-06T11:49:11.074397900Z",
     "start_time": "2024-05-06T11:49:10.651856200Z"
    }
   },
   "source": [
    "import pandas as pd\n",
    "import numpy as np"
   ],
   "outputs": [],
   "execution_count": 1
  },
  {
   "metadata": {
    "ExecuteTime": {
     "end_time": "2024-05-06T11:49:11.100438400Z",
     "start_time": "2024-05-06T11:49:11.076432400Z"
    }
   },
   "cell_type": "code",
   "source": [
    "df = pd.read_csv(\"data_b1_p3.csv\")\n",
    "df"
   ],
   "id": "f001cc8344824b21",
   "outputs": [
    {
     "data": {
      "text/plain": "     Data\n0    99.2\n1   101.2\n2    99.3\n3   105.0\n4    97.3\n5   103.2\n6   105.4\n7   108.2\n8    95.4\n9    96.8\n10  100.5\n11   90.3\n12  110.0\n13  111.5\n14  150.5\n15  140.3\n16   89.8\n17  103.6\n18  115.8\n19  125.4\n20  116.5\n21  130.4\n22   90.6\n23  130.4\n24  170.4\n25  109.2\n26  160.3\n27  122.4\n28  190.3\n29  202.0\n30  130.0\n31  119.6\n32   99.9\n33  119.4\n34  127.0\n35  130.0\n36  140.0\n37  129.0\n38  150.0\n39  168.0",
      "text/html": "<div>\n<style scoped>\n    .dataframe tbody tr th:only-of-type {\n        vertical-align: middle;\n    }\n\n    .dataframe tbody tr th {\n        vertical-align: top;\n    }\n\n    .dataframe thead th {\n        text-align: right;\n    }\n</style>\n<table border=\"1\" class=\"dataframe\">\n  <thead>\n    <tr style=\"text-align: right;\">\n      <th></th>\n      <th>Data</th>\n    </tr>\n  </thead>\n  <tbody>\n    <tr>\n      <th>0</th>\n      <td>99.2</td>\n    </tr>\n    <tr>\n      <th>1</th>\n      <td>101.2</td>\n    </tr>\n    <tr>\n      <th>2</th>\n      <td>99.3</td>\n    </tr>\n    <tr>\n      <th>3</th>\n      <td>105.0</td>\n    </tr>\n    <tr>\n      <th>4</th>\n      <td>97.3</td>\n    </tr>\n    <tr>\n      <th>5</th>\n      <td>103.2</td>\n    </tr>\n    <tr>\n      <th>6</th>\n      <td>105.4</td>\n    </tr>\n    <tr>\n      <th>7</th>\n      <td>108.2</td>\n    </tr>\n    <tr>\n      <th>8</th>\n      <td>95.4</td>\n    </tr>\n    <tr>\n      <th>9</th>\n      <td>96.8</td>\n    </tr>\n    <tr>\n      <th>10</th>\n      <td>100.5</td>\n    </tr>\n    <tr>\n      <th>11</th>\n      <td>90.3</td>\n    </tr>\n    <tr>\n      <th>12</th>\n      <td>110.0</td>\n    </tr>\n    <tr>\n      <th>13</th>\n      <td>111.5</td>\n    </tr>\n    <tr>\n      <th>14</th>\n      <td>150.5</td>\n    </tr>\n    <tr>\n      <th>15</th>\n      <td>140.3</td>\n    </tr>\n    <tr>\n      <th>16</th>\n      <td>89.8</td>\n    </tr>\n    <tr>\n      <th>17</th>\n      <td>103.6</td>\n    </tr>\n    <tr>\n      <th>18</th>\n      <td>115.8</td>\n    </tr>\n    <tr>\n      <th>19</th>\n      <td>125.4</td>\n    </tr>\n    <tr>\n      <th>20</th>\n      <td>116.5</td>\n    </tr>\n    <tr>\n      <th>21</th>\n      <td>130.4</td>\n    </tr>\n    <tr>\n      <th>22</th>\n      <td>90.6</td>\n    </tr>\n    <tr>\n      <th>23</th>\n      <td>130.4</td>\n    </tr>\n    <tr>\n      <th>24</th>\n      <td>170.4</td>\n    </tr>\n    <tr>\n      <th>25</th>\n      <td>109.2</td>\n    </tr>\n    <tr>\n      <th>26</th>\n      <td>160.3</td>\n    </tr>\n    <tr>\n      <th>27</th>\n      <td>122.4</td>\n    </tr>\n    <tr>\n      <th>28</th>\n      <td>190.3</td>\n    </tr>\n    <tr>\n      <th>29</th>\n      <td>202.0</td>\n    </tr>\n    <tr>\n      <th>30</th>\n      <td>130.0</td>\n    </tr>\n    <tr>\n      <th>31</th>\n      <td>119.6</td>\n    </tr>\n    <tr>\n      <th>32</th>\n      <td>99.9</td>\n    </tr>\n    <tr>\n      <th>33</th>\n      <td>119.4</td>\n    </tr>\n    <tr>\n      <th>34</th>\n      <td>127.0</td>\n    </tr>\n    <tr>\n      <th>35</th>\n      <td>130.0</td>\n    </tr>\n    <tr>\n      <th>36</th>\n      <td>140.0</td>\n    </tr>\n    <tr>\n      <th>37</th>\n      <td>129.0</td>\n    </tr>\n    <tr>\n      <th>38</th>\n      <td>150.0</td>\n    </tr>\n    <tr>\n      <th>39</th>\n      <td>168.0</td>\n    </tr>\n  </tbody>\n</table>\n</div>"
     },
     "execution_count": 2,
     "metadata": {},
     "output_type": "execute_result"
    }
   ],
   "execution_count": 2
  },
  {
   "metadata": {},
   "cell_type": "markdown",
   "source": [
    "# Часть1"
   ],
   "id": "55bad365b8d235f4"
  },
  {
   "metadata": {
    "ExecuteTime": {
     "end_time": "2024-05-06T11:49:11.101653600Z",
     "start_time": "2024-05-06T11:49:11.095638900Z"
    }
   },
   "cell_type": "code",
   "source": [
    "k = 4\n",
    "n = len(df)\n",
    "r = max(df['Data']) - min(df['Data'])\n",
    "h = r / k\n",
    "print(n, k, r, h)"
   ],
   "id": "a2c5de110281df41",
   "outputs": [
    {
     "name": "stdout",
     "output_type": "stream",
     "text": [
      "40 4 112.2 28.05\n"
     ]
    }
   ],
   "execution_count": 3
  },
  {
   "metadata": {
    "ExecuteTime": {
     "end_time": "2024-05-06T11:49:11.134100500Z",
     "start_time": "2024-05-06T11:49:11.102662500Z"
    }
   },
   "cell_type": "code",
   "source": [
    "line_ndf = pd.Series(df['Data'].to_numpy().reshape(-1), index=df['Data'].to_numpy().reshape(-1))\n",
    "line_ndf\n",
    "cut_df = pd.cut(line_ndf, bins=k, right=False, retbins=True, precision=1)[0]\n",
    "cut_df\n",
    "freq_df = cut_df.groupby(cut_df, observed=True).count()\n",
    "freq_df"
   ],
   "id": "d1fcfe83db0910ca",
   "outputs": [
    {
     "data": {
      "text/plain": "[89.8, 117.8)     21\n[117.8, 145.9)    12\n[145.9, 174.0)     5\n[174.0, 202.1)     2\ndtype: int64"
     },
     "execution_count": 4,
     "metadata": {},
     "output_type": "execute_result"
    }
   ],
   "execution_count": 4
  },
  {
   "metadata": {
    "ExecuteTime": {
     "end_time": "2024-05-06T11:49:11.196101600Z",
     "start_time": "2024-05-06T11:49:11.117960400Z"
    }
   },
   "cell_type": "code",
   "source": [
    "int_df = pd.DataFrame(index = freq_df.index)\n",
    "int_df['Середина интервала'] = np.array([min(df['Data']) + h/2 + h*i for i in range(k)])\n",
    "int_df['Частота'] = freq_df.values\n",
    "int_df = int_df.assign(ПлотностьЧастоты = lambda row: (row['Частота']/h))\n",
    "int_df = int_df.assign(ОтносительнаяЧастота = lambda row: (row['Частота']/n))\n",
    "int_df = int_df.assign(ПлотностьОтносительнойЧастоты = lambda row: (row['ОтносительнаяЧастота']/h))\n",
    "int_df"
   ],
   "id": "f29a5ef5e25efd6c",
   "outputs": [
    {
     "data": {
      "text/plain": "                Середина интервала  Частота  ПлотностьЧастоты  \\\n[89.8, 117.8)              103.825       21          0.748663   \n[117.8, 145.9)             131.875       12          0.427807   \n[145.9, 174.0)             159.925        5          0.178253   \n[174.0, 202.1)             187.975        2          0.071301   \n\n                ОтносительнаяЧастота  ПлотностьОтносительнойЧастоты  \n[89.8, 117.8)                  0.525                       0.018717  \n[117.8, 145.9)                 0.300                       0.010695  \n[145.9, 174.0)                 0.125                       0.004456  \n[174.0, 202.1)                 0.050                       0.001783  ",
      "text/html": "<div>\n<style scoped>\n    .dataframe tbody tr th:only-of-type {\n        vertical-align: middle;\n    }\n\n    .dataframe tbody tr th {\n        vertical-align: top;\n    }\n\n    .dataframe thead th {\n        text-align: right;\n    }\n</style>\n<table border=\"1\" class=\"dataframe\">\n  <thead>\n    <tr style=\"text-align: right;\">\n      <th></th>\n      <th>Середина интервала</th>\n      <th>Частота</th>\n      <th>ПлотностьЧастоты</th>\n      <th>ОтносительнаяЧастота</th>\n      <th>ПлотностьОтносительнойЧастоты</th>\n    </tr>\n  </thead>\n  <tbody>\n    <tr>\n      <th>[89.8, 117.8)</th>\n      <td>103.825</td>\n      <td>21</td>\n      <td>0.748663</td>\n      <td>0.525</td>\n      <td>0.018717</td>\n    </tr>\n    <tr>\n      <th>[117.8, 145.9)</th>\n      <td>131.875</td>\n      <td>12</td>\n      <td>0.427807</td>\n      <td>0.300</td>\n      <td>0.010695</td>\n    </tr>\n    <tr>\n      <th>[145.9, 174.0)</th>\n      <td>159.925</td>\n      <td>5</td>\n      <td>0.178253</td>\n      <td>0.125</td>\n      <td>0.004456</td>\n    </tr>\n    <tr>\n      <th>[174.0, 202.1)</th>\n      <td>187.975</td>\n      <td>2</td>\n      <td>0.071301</td>\n      <td>0.050</td>\n      <td>0.001783</td>\n    </tr>\n  </tbody>\n</table>\n</div>"
     },
     "execution_count": 5,
     "metadata": {},
     "output_type": "execute_result"
    }
   ],
   "execution_count": 5
  },
  {
   "metadata": {},
   "cell_type": "markdown",
   "source": [
    "# Часть2"
   ],
   "id": "b5640bfce9c70761"
  },
  {
   "metadata": {
    "ExecuteTime": {
     "end_time": "2024-05-06T11:49:11.208340800Z",
     "start_time": "2024-05-06T11:49:11.130916200Z"
    }
   },
   "cell_type": "code",
   "source": [
    "check_df = df.assign(Status = lambda row: (row['Data'] < 100))\n",
    "check_df = check_df.groupby('Status').count()\n",
    "check_df"
   ],
   "id": "c9c603760441c241",
   "outputs": [
    {
     "data": {
      "text/plain": "        Data\nStatus      \nFalse     31\nTrue       9",
      "text/html": "<div>\n<style scoped>\n    .dataframe tbody tr th:only-of-type {\n        vertical-align: middle;\n    }\n\n    .dataframe tbody tr th {\n        vertical-align: top;\n    }\n\n    .dataframe thead th {\n        text-align: right;\n    }\n</style>\n<table border=\"1\" class=\"dataframe\">\n  <thead>\n    <tr style=\"text-align: right;\">\n      <th></th>\n      <th>Data</th>\n    </tr>\n    <tr>\n      <th>Status</th>\n      <th></th>\n    </tr>\n  </thead>\n  <tbody>\n    <tr>\n      <th>False</th>\n      <td>31</td>\n    </tr>\n    <tr>\n      <th>True</th>\n      <td>9</td>\n    </tr>\n  </tbody>\n</table>\n</div>"
     },
     "execution_count": 6,
     "metadata": {},
     "output_type": "execute_result"
    }
   ],
   "execution_count": 6
  },
  {
   "metadata": {
    "ExecuteTime": {
     "end_time": "2024-05-06T11:49:11.209342500Z",
     "start_time": "2024-05-06T11:49:11.141752600Z"
    }
   },
   "cell_type": "code",
   "outputs": [],
   "execution_count": 6,
   "source": [],
   "id": "48d9e86579447e51"
  }
 ],
 "metadata": {
  "kernelspec": {
   "display_name": "Python 3",
   "language": "python",
   "name": "python3"
  },
  "language_info": {
   "codemirror_mode": {
    "name": "ipython",
    "version": 2
   },
   "file_extension": ".py",
   "mimetype": "text/x-python",
   "name": "python",
   "nbconvert_exporter": "python",
   "pygments_lexer": "ipython2",
   "version": "2.7.6"
  }
 },
 "nbformat": 4,
 "nbformat_minor": 5
}
