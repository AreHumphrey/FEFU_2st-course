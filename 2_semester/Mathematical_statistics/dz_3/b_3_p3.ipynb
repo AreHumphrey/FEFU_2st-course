{
 "cells": [
  {
   "cell_type": "code",
   "id": "initial_id",
   "metadata": {
    "collapsed": true,
    "ExecuteTime": {
     "end_time": "2024-05-06T12:00:30.778547900Z",
     "start_time": "2024-05-06T12:00:30.385349200Z"
    }
   },
   "source": [
    "import pandas as pd"
   ],
   "outputs": [],
   "execution_count": 1
  },
  {
   "metadata": {
    "ExecuteTime": {
     "end_time": "2024-05-06T12:00:30.795173700Z",
     "start_time": "2024-05-06T12:00:30.782027800Z"
    }
   },
   "cell_type": "code",
   "source": [
    "df = pd.read_csv('data_b3_p3.csv', index_col=0)\n",
    "df"
   ],
   "id": "982544ddec986c6d",
   "outputs": [
    {
     "data": {
      "text/plain": "        % брака  Стоимость продукции\n№ цеха                              \n1           0.8                125.9\n2           1.2                154.3\n3           0.5                200.8",
      "text/html": "<div>\n<style scoped>\n    .dataframe tbody tr th:only-of-type {\n        vertical-align: middle;\n    }\n\n    .dataframe tbody tr th {\n        vertical-align: top;\n    }\n\n    .dataframe thead th {\n        text-align: right;\n    }\n</style>\n<table border=\"1\" class=\"dataframe\">\n  <thead>\n    <tr style=\"text-align: right;\">\n      <th></th>\n      <th>% брака</th>\n      <th>Стоимость продукции</th>\n    </tr>\n    <tr>\n      <th>№ цеха</th>\n      <th></th>\n      <th></th>\n    </tr>\n  </thead>\n  <tbody>\n    <tr>\n      <th>1</th>\n      <td>0.8</td>\n      <td>125.9</td>\n    </tr>\n    <tr>\n      <th>2</th>\n      <td>1.2</td>\n      <td>154.3</td>\n    </tr>\n    <tr>\n      <th>3</th>\n      <td>0.5</td>\n      <td>200.8</td>\n    </tr>\n  </tbody>\n</table>\n</div>"
     },
     "execution_count": 2,
     "metadata": {},
     "output_type": "execute_result"
    }
   ],
   "execution_count": 2
  },
  {
   "metadata": {
    "ExecuteTime": {
     "end_time": "2024-05-06T12:00:30.800696800Z",
     "start_time": "2024-05-06T12:00:30.797251500Z"
    }
   },
   "cell_type": "code",
   "source": [
    "print(sum(df['% брака']) / len(df))"
   ],
   "id": "1eeed6b66d3790f6",
   "outputs": [
    {
     "name": "stdout",
     "output_type": "stream",
     "text": [
      "0.8333333333333334\n"
     ]
    }
   ],
   "execution_count": 3
  }
 ],
 "metadata": {
  "kernelspec": {
   "display_name": "Python 3",
   "language": "python",
   "name": "python3"
  },
  "language_info": {
   "codemirror_mode": {
    "name": "ipython",
    "version": 2
   },
   "file_extension": ".py",
   "mimetype": "text/x-python",
   "name": "python",
   "nbconvert_exporter": "python",
   "pygments_lexer": "ipython2",
   "version": "2.7.6"
  }
 },
 "nbformat": 4,
 "nbformat_minor": 5
}
