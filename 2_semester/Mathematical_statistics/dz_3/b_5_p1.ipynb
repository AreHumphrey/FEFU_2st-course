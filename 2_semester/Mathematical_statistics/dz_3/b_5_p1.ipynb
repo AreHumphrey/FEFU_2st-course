{
 "cells": [
  {
   "cell_type": "code",
   "id": "initial_id",
   "metadata": {
    "collapsed": true,
    "ExecuteTime": {
     "end_time": "2024-05-06T12:11:48.956480700Z",
     "start_time": "2024-05-06T12:11:48.020473600Z"
    }
   },
   "source": [
    "import pandas as pd\n",
    "from math import sqrt"
   ],
   "outputs": [],
   "execution_count": 1
  },
  {
   "metadata": {
    "ExecuteTime": {
     "end_time": "2024-05-06T12:11:48.978080500Z",
     "start_time": "2024-05-06T12:11:48.961500Z"
    }
   },
   "cell_type": "code",
   "source": [
    "df = pd.read_csv(\"data_b5_p1.csv\")\n",
    "df"
   ],
   "id": "dbc690e7cea93e67",
   "outputs": [
    {
     "data": {
      "text/plain": "   Возраст  Число студентов\n0       17               10\n1       18               50\n2       19               70\n3       20               30\n4       21               10",
      "text/html": "<div>\n<style scoped>\n    .dataframe tbody tr th:only-of-type {\n        vertical-align: middle;\n    }\n\n    .dataframe tbody tr th {\n        vertical-align: top;\n    }\n\n    .dataframe thead th {\n        text-align: right;\n    }\n</style>\n<table border=\"1\" class=\"dataframe\">\n  <thead>\n    <tr style=\"text-align: right;\">\n      <th></th>\n      <th>Возраст</th>\n      <th>Число студентов</th>\n    </tr>\n  </thead>\n  <tbody>\n    <tr>\n      <th>0</th>\n      <td>17</td>\n      <td>10</td>\n    </tr>\n    <tr>\n      <th>1</th>\n      <td>18</td>\n      <td>50</td>\n    </tr>\n    <tr>\n      <th>2</th>\n      <td>19</td>\n      <td>70</td>\n    </tr>\n    <tr>\n      <th>3</th>\n      <td>20</td>\n      <td>30</td>\n    </tr>\n    <tr>\n      <th>4</th>\n      <td>21</td>\n      <td>10</td>\n    </tr>\n  </tbody>\n</table>\n</div>"
     },
     "execution_count": 2,
     "metadata": {},
     "output_type": "execute_result"
    }
   ],
   "execution_count": 2
  },
  {
   "metadata": {},
   "cell_type": "markdown",
   "source": [
    "# Показатели вариации"
   ],
   "id": "a2de82e7d50e799e"
  },
  {
   "metadata": {},
   "cell_type": "markdown",
   "source": [
    "## Размах"
   ],
   "id": "9e67286998ce06e1"
  },
  {
   "metadata": {
    "ExecuteTime": {
     "end_time": "2024-05-06T12:11:49.019635600Z",
     "start_time": "2024-05-06T12:11:48.981341700Z"
    }
   },
   "cell_type": "code",
   "source": [
    "r = max(df['Возраст']) - min(df['Возраст'])\n",
    "r"
   ],
   "id": "7e79a4a6431ad5b5",
   "outputs": [
    {
     "data": {
      "text/plain": "4"
     },
     "execution_count": 3,
     "metadata": {},
     "output_type": "execute_result"
    }
   ],
   "execution_count": 3
  },
  {
   "metadata": {},
   "cell_type": "markdown",
   "source": [
    "## Среднее линейное отклонение"
   ],
   "id": "bfa1c43663edd230"
  },
  {
   "metadata": {},
   "cell_type": "markdown",
   "source": [
    "### Оценка выборочной средней"
   ],
   "id": "a876337c63ea4f1e"
  },
  {
   "metadata": {
    "ExecuteTime": {
     "end_time": "2024-05-06T12:11:49.060203700Z",
     "start_time": "2024-05-06T12:11:48.988054Z"
    }
   },
   "cell_type": "code",
   "source": [
    "cdf = df.copy()\n",
    "total_freq = sum(cdf['Число студентов'])\n",
    "cdf['Варианта (s)'] = cdf['Число студентов'] * cdf['Возраст']\n",
    "cdf"
   ],
   "id": "9e17080ad6750137",
   "outputs": [
    {
     "data": {
      "text/plain": "   Возраст  Число студентов  Варианта (s)\n0       17               10           170\n1       18               50           900\n2       19               70          1330\n3       20               30           600\n4       21               10           210",
      "text/html": "<div>\n<style scoped>\n    .dataframe tbody tr th:only-of-type {\n        vertical-align: middle;\n    }\n\n    .dataframe tbody tr th {\n        vertical-align: top;\n    }\n\n    .dataframe thead th {\n        text-align: right;\n    }\n</style>\n<table border=\"1\" class=\"dataframe\">\n  <thead>\n    <tr style=\"text-align: right;\">\n      <th></th>\n      <th>Возраст</th>\n      <th>Число студентов</th>\n      <th>Варианта (s)</th>\n    </tr>\n  </thead>\n  <tbody>\n    <tr>\n      <th>0</th>\n      <td>17</td>\n      <td>10</td>\n      <td>170</td>\n    </tr>\n    <tr>\n      <th>1</th>\n      <td>18</td>\n      <td>50</td>\n      <td>900</td>\n    </tr>\n    <tr>\n      <th>2</th>\n      <td>19</td>\n      <td>70</td>\n      <td>1330</td>\n    </tr>\n    <tr>\n      <th>3</th>\n      <td>20</td>\n      <td>30</td>\n      <td>600</td>\n    </tr>\n    <tr>\n      <th>4</th>\n      <td>21</td>\n      <td>10</td>\n      <td>210</td>\n    </tr>\n  </tbody>\n</table>\n</div>"
     },
     "execution_count": 4,
     "metadata": {},
     "output_type": "execute_result"
    }
   ],
   "execution_count": 4
  },
  {
   "metadata": {
    "ExecuteTime": {
     "end_time": "2024-05-06T12:11:49.094421400Z",
     "start_time": "2024-05-06T12:11:49.003219Z"
    }
   },
   "cell_type": "code",
   "source": [
    "selective_mean = sum(cdf['Варианта (s)']) / total_freq\n",
    "selective_mean"
   ],
   "id": "55b12c86bf1cc14f",
   "outputs": [
    {
     "data": {
      "text/plain": "18.88235294117647"
     },
     "execution_count": 5,
     "metadata": {},
     "output_type": "execute_result"
    }
   ],
   "execution_count": 5
  },
  {
   "metadata": {
    "ExecuteTime": {
     "end_time": "2024-05-06T12:11:49.111535200Z",
     "start_time": "2024-05-06T12:11:49.031376900Z"
    }
   },
   "cell_type": "code",
   "source": [
    "cdf['Разность (d)'] = round(cdf['Возраст'] - selective_mean, 1)\n",
    "cdf['Частота (f)'] = abs(cdf['Разность (d)']) * cdf['Число студентов']\n",
    "cdf['Частота (2f)'] = (cdf['Разность (d)'] ** 2) * cdf['Число студентов']\n",
    "cdf = cdf.astype({'Частота (f)': 'int64'})\n",
    "cdf"
   ],
   "id": "5b373cf27be65d06",
   "outputs": [
    {
     "data": {
      "text/plain": "   Возраст  Число студентов  Варианта (s)  Разность (d)  Частота (f)  \\\n0       17               10           170          -1.9           19   \n1       18               50           900          -0.9           45   \n2       19               70          1330           0.1            7   \n3       20               30           600           1.1           33   \n4       21               10           210           2.1           21   \n\n   Частота (2f)  \n0          36.1  \n1          40.5  \n2           0.7  \n3          36.3  \n4          44.1  ",
      "text/html": "<div>\n<style scoped>\n    .dataframe tbody tr th:only-of-type {\n        vertical-align: middle;\n    }\n\n    .dataframe tbody tr th {\n        vertical-align: top;\n    }\n\n    .dataframe thead th {\n        text-align: right;\n    }\n</style>\n<table border=\"1\" class=\"dataframe\">\n  <thead>\n    <tr style=\"text-align: right;\">\n      <th></th>\n      <th>Возраст</th>\n      <th>Число студентов</th>\n      <th>Варианта (s)</th>\n      <th>Разность (d)</th>\n      <th>Частота (f)</th>\n      <th>Частота (2f)</th>\n    </tr>\n  </thead>\n  <tbody>\n    <tr>\n      <th>0</th>\n      <td>17</td>\n      <td>10</td>\n      <td>170</td>\n      <td>-1.9</td>\n      <td>19</td>\n      <td>36.1</td>\n    </tr>\n    <tr>\n      <th>1</th>\n      <td>18</td>\n      <td>50</td>\n      <td>900</td>\n      <td>-0.9</td>\n      <td>45</td>\n      <td>40.5</td>\n    </tr>\n    <tr>\n      <th>2</th>\n      <td>19</td>\n      <td>70</td>\n      <td>1330</td>\n      <td>0.1</td>\n      <td>7</td>\n      <td>0.7</td>\n    </tr>\n    <tr>\n      <th>3</th>\n      <td>20</td>\n      <td>30</td>\n      <td>600</td>\n      <td>1.1</td>\n      <td>33</td>\n      <td>36.3</td>\n    </tr>\n    <tr>\n      <th>4</th>\n      <td>21</td>\n      <td>10</td>\n      <td>210</td>\n      <td>2.1</td>\n      <td>21</td>\n      <td>44.1</td>\n    </tr>\n  </tbody>\n</table>\n</div>"
     },
     "execution_count": 6,
     "metadata": {},
     "output_type": "execute_result"
    }
   ],
   "execution_count": 6
  },
  {
   "metadata": {
    "ExecuteTime": {
     "end_time": "2024-05-06T12:11:49.116753100Z",
     "start_time": "2024-05-06T12:11:49.040275100Z"
    }
   },
   "cell_type": "code",
   "source": [
    "mid_lin_disp = sum(cdf['Частота (f)']) / total_freq\n",
    "mid_lin_disp"
   ],
   "id": "283d5b05fd8a1a79",
   "outputs": [
    {
     "data": {
      "text/plain": "0.7352941176470589"
     },
     "execution_count": 7,
     "metadata": {},
     "output_type": "execute_result"
    }
   ],
   "execution_count": 7
  },
  {
   "metadata": {},
   "cell_type": "markdown",
   "source": [
    "## Среднеквадратическое отклонение"
   ],
   "id": "efe468f70a063130"
  },
  {
   "metadata": {
    "ExecuteTime": {
     "end_time": "2024-05-06T12:11:49.172843700Z",
     "start_time": "2024-05-06T12:11:49.048132500Z"
    }
   },
   "cell_type": "code",
   "source": [
    "disp = sum(cdf['Частота (2f)']) / total_freq\n",
    "disp"
   ],
   "id": "c2e8525d2958c8b1",
   "outputs": [
    {
     "data": {
      "text/plain": "0.9276470588235294"
     },
     "execution_count": 8,
     "metadata": {},
     "output_type": "execute_result"
    }
   ],
   "execution_count": 8
  },
  {
   "metadata": {},
   "cell_type": "markdown",
   "source": [
    "## Коэффициент вариации"
   ],
   "id": "c8966d9a84c356d8"
  },
  {
   "metadata": {
    "ExecuteTime": {
     "end_time": "2024-05-06T12:11:49.174556100Z",
     "start_time": "2024-05-06T12:11:49.059715200Z"
    }
   },
   "cell_type": "code",
   "source": [
    "coef_var = sqrt(disp) / selective_mean * 100\n",
    "coef_var"
   ],
   "id": "bc30f95f7dc33776",
   "outputs": [
    {
     "data": {
      "text/plain": "5.10076452507928"
     },
     "execution_count": 9,
     "metadata": {},
     "output_type": "execute_result"
    }
   ],
   "execution_count": 9
  },
  {
   "metadata": {
    "ExecuteTime": {
     "end_time": "2024-05-06T12:11:49.174556100Z",
     "start_time": "2024-05-06T12:11:49.067508700Z"
    }
   },
   "cell_type": "code",
   "outputs": [],
   "execution_count": 9,
   "source": [],
   "id": "97f49ee2bd35a212"
  }
 ],
 "metadata": {
  "kernelspec": {
   "display_name": "Python 3",
   "language": "python",
   "name": "python3"
  },
  "language_info": {
   "codemirror_mode": {
    "name": "ipython",
    "version": 2
   },
   "file_extension": ".py",
   "mimetype": "text/x-python",
   "name": "python",
   "nbconvert_exporter": "python",
   "pygments_lexer": "ipython2",
   "version": "2.7.6"
  }
 },
 "nbformat": 4,
 "nbformat_minor": 5
}
