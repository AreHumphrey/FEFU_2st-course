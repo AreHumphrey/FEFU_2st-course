{
 "cells": [
  {
   "cell_type": "code",
   "id": "initial_id",
   "metadata": {
    "collapsed": true,
    "ExecuteTime": {
     "end_time": "2024-05-06T11:50:26.571137600Z",
     "start_time": "2024-05-06T11:50:26.160538400Z"
    }
   },
   "source": [
    "import pandas as pd\n",
    "import numpy as np"
   ],
   "outputs": [],
   "execution_count": 1
  },
  {
   "metadata": {
    "ExecuteTime": {
     "end_time": "2024-05-06T11:50:26.599386100Z",
     "start_time": "2024-05-06T11:50:26.575077200Z"
    }
   },
   "cell_type": "code",
   "source": [
    "df = pd.read_csv('data_b1_p5.csv', index_col=0, delimiter=\"\\t\")\n",
    "df"
   ],
   "id": "75f6bd96d8864f5a",
   "outputs": [
    {
     "data": {
      "text/plain": "                   Среднегодовой объем выпускаемой продукции (тыс. руб.)  \\\nНомер предприятия                                                          \n1                                                               4010       \n2                                                               3016       \n3                                                               1950       \n4                                                               4100       \n5                                                               3116       \n6                                                               3266       \n7                                                               2100       \n8                                                               2986       \n9                                                               2160       \n10                                                              3110       \n11                                                              2040       \n12                                                              2540       \n13                                                              3403       \n14                                                              2500       \n15                                                              3146       \n16                                                              2130       \n17                                                              3236       \n18                                                              2866       \n19                                                              3146       \n20                                                              2250       \n21                                                              2610       \n22                                                              2270       \n23                                                              2420       \n24                                                              3760       \n25                                                              4210       \n\n                   Среднее списочное число рабочих (чел.)  \\\nНомер предприятия                                           \n1                                                    4270   \n2                                                    4250   \n3                                                    2850   \n4                                                    4750   \n5                                                    3550   \n6                                                    3900   \n7                                                    2850   \n8                                                    3650   \n9                                                    2750   \n10                                                   3200   \n11                                                   2150   \n12                                                   3150   \n13                                                   3750   \n14                                                   3150   \n15                                                   3550   \n16                                                   3150   \n17                                                   3650   \n18                                                   2950   \n19                                                   3350   \n20                                                   2750   \n21                                                   3150   \n22                                                   2350   \n23                                                   2250   \n24                                                   4150   \n25                                                   4850   \n\n                   Количество посещений больниц в связи с травмами  \nНомер предприятия                                                   \n1                                                              937  \n2                                                              702  \n3                                                              389  \n4                                                              987  \n5                                                              632  \n6                                                              665  \n7                                                              338  \n8                                                              572  \n9                                                              368  \n10                                                             484  \n11                                                             305  \n12                                                             527  \n13                                                             660  \n14                                                             502  \n15                                                             582  \n16                                                             580  \n17                                                             690  \n18                                                             427  \n19                                                             528  \n20                                                             380  \n21                                                             648  \n22                                                            4072  \n23                                                             416  \n24                                                             810  \n25                                                             907  ",
      "text/html": "<div>\n<style scoped>\n    .dataframe tbody tr th:only-of-type {\n        vertical-align: middle;\n    }\n\n    .dataframe tbody tr th {\n        vertical-align: top;\n    }\n\n    .dataframe thead th {\n        text-align: right;\n    }\n</style>\n<table border=\"1\" class=\"dataframe\">\n  <thead>\n    <tr style=\"text-align: right;\">\n      <th></th>\n      <th>Среднегодовой объем выпускаемой продукции (тыс. руб.)</th>\n      <th>Среднее списочное число рабочих (чел.)</th>\n      <th>Количество посещений больниц в связи с травмами</th>\n    </tr>\n    <tr>\n      <th>Номер предприятия</th>\n      <th></th>\n      <th></th>\n      <th></th>\n    </tr>\n  </thead>\n  <tbody>\n    <tr>\n      <th>1</th>\n      <td>4010</td>\n      <td>4270</td>\n      <td>937</td>\n    </tr>\n    <tr>\n      <th>2</th>\n      <td>3016</td>\n      <td>4250</td>\n      <td>702</td>\n    </tr>\n    <tr>\n      <th>3</th>\n      <td>1950</td>\n      <td>2850</td>\n      <td>389</td>\n    </tr>\n    <tr>\n      <th>4</th>\n      <td>4100</td>\n      <td>4750</td>\n      <td>987</td>\n    </tr>\n    <tr>\n      <th>5</th>\n      <td>3116</td>\n      <td>3550</td>\n      <td>632</td>\n    </tr>\n    <tr>\n      <th>6</th>\n      <td>3266</td>\n      <td>3900</td>\n      <td>665</td>\n    </tr>\n    <tr>\n      <th>7</th>\n      <td>2100</td>\n      <td>2850</td>\n      <td>338</td>\n    </tr>\n    <tr>\n      <th>8</th>\n      <td>2986</td>\n      <td>3650</td>\n      <td>572</td>\n    </tr>\n    <tr>\n      <th>9</th>\n      <td>2160</td>\n      <td>2750</td>\n      <td>368</td>\n    </tr>\n    <tr>\n      <th>10</th>\n      <td>3110</td>\n      <td>3200</td>\n      <td>484</td>\n    </tr>\n    <tr>\n      <th>11</th>\n      <td>2040</td>\n      <td>2150</td>\n      <td>305</td>\n    </tr>\n    <tr>\n      <th>12</th>\n      <td>2540</td>\n      <td>3150</td>\n      <td>527</td>\n    </tr>\n    <tr>\n      <th>13</th>\n      <td>3403</td>\n      <td>3750</td>\n      <td>660</td>\n    </tr>\n    <tr>\n      <th>14</th>\n      <td>2500</td>\n      <td>3150</td>\n      <td>502</td>\n    </tr>\n    <tr>\n      <th>15</th>\n      <td>3146</td>\n      <td>3550</td>\n      <td>582</td>\n    </tr>\n    <tr>\n      <th>16</th>\n      <td>2130</td>\n      <td>3150</td>\n      <td>580</td>\n    </tr>\n    <tr>\n      <th>17</th>\n      <td>3236</td>\n      <td>3650</td>\n      <td>690</td>\n    </tr>\n    <tr>\n      <th>18</th>\n      <td>2866</td>\n      <td>2950</td>\n      <td>427</td>\n    </tr>\n    <tr>\n      <th>19</th>\n      <td>3146</td>\n      <td>3350</td>\n      <td>528</td>\n    </tr>\n    <tr>\n      <th>20</th>\n      <td>2250</td>\n      <td>2750</td>\n      <td>380</td>\n    </tr>\n    <tr>\n      <th>21</th>\n      <td>2610</td>\n      <td>3150</td>\n      <td>648</td>\n    </tr>\n    <tr>\n      <th>22</th>\n      <td>2270</td>\n      <td>2350</td>\n      <td>4072</td>\n    </tr>\n    <tr>\n      <th>23</th>\n      <td>2420</td>\n      <td>2250</td>\n      <td>416</td>\n    </tr>\n    <tr>\n      <th>24</th>\n      <td>3760</td>\n      <td>4150</td>\n      <td>810</td>\n    </tr>\n    <tr>\n      <th>25</th>\n      <td>4210</td>\n      <td>4850</td>\n      <td>907</td>\n    </tr>\n  </tbody>\n</table>\n</div>"
     },
     "execution_count": 2,
     "metadata": {},
     "output_type": "execute_result"
    }
   ],
   "execution_count": 2
  },
  {
   "metadata": {
    "ExecuteTime": {
     "end_time": "2024-05-06T11:50:26.603083500Z",
     "start_time": "2024-05-06T11:50:26.599386100Z"
    }
   },
   "cell_type": "code",
   "source": [
    "k = 5\n",
    "n = len(df)\n",
    "r = (max(df['Среднегодовой объем выпускаемой продукции (тыс. руб.)']) -\n",
    "     min(df['Среднегодовой объем выпускаемой продукции (тыс. руб.)']))\n",
    "h = r / k\n",
    "print(n, k, r, h)"
   ],
   "id": "d7d3d74ae5fe885",
   "outputs": [
    {
     "name": "stdout",
     "output_type": "stream",
     "text": [
      "25 5 2260 452.0\n"
     ]
    }
   ],
   "execution_count": 3
  },
  {
   "metadata": {
    "ExecuteTime": {
     "end_time": "2024-05-06T11:50:26.626779Z",
     "start_time": "2024-05-06T11:50:26.605098100Z"
    }
   },
   "cell_type": "code",
   "source": [
    "line_ndf = pd.Series(df['Среднегодовой объем выпускаемой продукции (тыс. руб.)'].to_numpy().reshape(-1),\n",
    "                     index=df['Среднегодовой объем выпускаемой продукции (тыс. руб.)'].to_numpy().reshape(-1))\n",
    "line_ndf\n",
    "scut_df = pd.cut(line_ndf, bins=k, right=False, retbins=True, precision=1)[0].rename(\"Диапазон\")\n",
    "scut_df\n",
    "cut_df = df.merge(scut_df, left_on='Среднегодовой объем выпускаемой продукции (тыс. руб.)', right_index=True)\n",
    "cut_group = cut_df.groupby('Диапазон')\n",
    "cut_df"
   ],
   "id": "892e869e8ea56068",
   "outputs": [
    {
     "name": "stderr",
     "output_type": "stream",
     "text": [
      "C:\\Users\\Дина\\AppData\\Local\\Temp\\ipykernel_26388\\2609868175.py:7: FutureWarning: The default of observed=False is deprecated and will be changed to True in a future version of pandas. Pass observed=False to retain current behavior or observed=True to adopt the future default and silence this warning.\n",
      "  cut_group = cut_df.groupby('Диапазон')\n"
     ]
    },
    {
     "data": {
      "text/plain": "                   Среднегодовой объем выпускаемой продукции (тыс. руб.)  \\\nНомер предприятия                                                          \n1                                                               4010       \n2                                                               3016       \n3                                                               1950       \n4                                                               4100       \n5                                                               3116       \n6                                                               3266       \n7                                                               2100       \n8                                                               2986       \n9                                                               2160       \n10                                                              3110       \n11                                                              2040       \n12                                                              2540       \n13                                                              3403       \n14                                                              2500       \n15                                                              3146       \n15                                                              3146       \n16                                                              2130       \n17                                                              3236       \n18                                                              2866       \n19                                                              3146       \n19                                                              3146       \n20                                                              2250       \n21                                                              2610       \n22                                                              2270       \n23                                                              2420       \n24                                                              3760       \n25                                                              4210       \n\n                   Среднее списочное число рабочих (чел.)  \\\nНомер предприятия                                           \n1                                                    4270   \n2                                                    4250   \n3                                                    2850   \n4                                                    4750   \n5                                                    3550   \n6                                                    3900   \n7                                                    2850   \n8                                                    3650   \n9                                                    2750   \n10                                                   3200   \n11                                                   2150   \n12                                                   3150   \n13                                                   3750   \n14                                                   3150   \n15                                                   3550   \n15                                                   3550   \n16                                                   3150   \n17                                                   3650   \n18                                                   2950   \n19                                                   3350   \n19                                                   3350   \n20                                                   2750   \n21                                                   3150   \n22                                                   2350   \n23                                                   2250   \n24                                                   4150   \n25                                                   4850   \n\n                   Количество посещений больниц в связи с травмами  \\\nНомер предприятия                                                    \n1                                                              937   \n2                                                              702   \n3                                                              389   \n4                                                              987   \n5                                                              632   \n6                                                              665   \n7                                                              338   \n8                                                              572   \n9                                                              368   \n10                                                             484   \n11                                                             305   \n12                                                             527   \n13                                                             660   \n14                                                             502   \n15                                                             582   \n15                                                             582   \n16                                                             580   \n17                                                             690   \n18                                                             427   \n19                                                             528   \n19                                                             528   \n20                                                             380   \n21                                                             648   \n22                                                            4072   \n23                                                             416   \n24                                                             810   \n25                                                             907   \n\n                           Диапазон  \nНомер предприятия                    \n1                  [3758.0, 4212.3)  \n2                  [2854.0, 3306.0)  \n3                  [1950.0, 2402.0)  \n4                  [3758.0, 4212.3)  \n5                  [2854.0, 3306.0)  \n6                  [2854.0, 3306.0)  \n7                  [1950.0, 2402.0)  \n8                  [2854.0, 3306.0)  \n9                  [1950.0, 2402.0)  \n10                 [2854.0, 3306.0)  \n11                 [1950.0, 2402.0)  \n12                 [2402.0, 2854.0)  \n13                 [3306.0, 3758.0)  \n14                 [2402.0, 2854.0)  \n15                 [2854.0, 3306.0)  \n15                 [2854.0, 3306.0)  \n16                 [1950.0, 2402.0)  \n17                 [2854.0, 3306.0)  \n18                 [2854.0, 3306.0)  \n19                 [2854.0, 3306.0)  \n19                 [2854.0, 3306.0)  \n20                 [1950.0, 2402.0)  \n21                 [2402.0, 2854.0)  \n22                 [1950.0, 2402.0)  \n23                 [2402.0, 2854.0)  \n24                 [3758.0, 4212.3)  \n25                 [3758.0, 4212.3)  ",
      "text/html": "<div>\n<style scoped>\n    .dataframe tbody tr th:only-of-type {\n        vertical-align: middle;\n    }\n\n    .dataframe tbody tr th {\n        vertical-align: top;\n    }\n\n    .dataframe thead th {\n        text-align: right;\n    }\n</style>\n<table border=\"1\" class=\"dataframe\">\n  <thead>\n    <tr style=\"text-align: right;\">\n      <th></th>\n      <th>Среднегодовой объем выпускаемой продукции (тыс. руб.)</th>\n      <th>Среднее списочное число рабочих (чел.)</th>\n      <th>Количество посещений больниц в связи с травмами</th>\n      <th>Диапазон</th>\n    </tr>\n    <tr>\n      <th>Номер предприятия</th>\n      <th></th>\n      <th></th>\n      <th></th>\n      <th></th>\n    </tr>\n  </thead>\n  <tbody>\n    <tr>\n      <th>1</th>\n      <td>4010</td>\n      <td>4270</td>\n      <td>937</td>\n      <td>[3758.0, 4212.3)</td>\n    </tr>\n    <tr>\n      <th>2</th>\n      <td>3016</td>\n      <td>4250</td>\n      <td>702</td>\n      <td>[2854.0, 3306.0)</td>\n    </tr>\n    <tr>\n      <th>3</th>\n      <td>1950</td>\n      <td>2850</td>\n      <td>389</td>\n      <td>[1950.0, 2402.0)</td>\n    </tr>\n    <tr>\n      <th>4</th>\n      <td>4100</td>\n      <td>4750</td>\n      <td>987</td>\n      <td>[3758.0, 4212.3)</td>\n    </tr>\n    <tr>\n      <th>5</th>\n      <td>3116</td>\n      <td>3550</td>\n      <td>632</td>\n      <td>[2854.0, 3306.0)</td>\n    </tr>\n    <tr>\n      <th>6</th>\n      <td>3266</td>\n      <td>3900</td>\n      <td>665</td>\n      <td>[2854.0, 3306.0)</td>\n    </tr>\n    <tr>\n      <th>7</th>\n      <td>2100</td>\n      <td>2850</td>\n      <td>338</td>\n      <td>[1950.0, 2402.0)</td>\n    </tr>\n    <tr>\n      <th>8</th>\n      <td>2986</td>\n      <td>3650</td>\n      <td>572</td>\n      <td>[2854.0, 3306.0)</td>\n    </tr>\n    <tr>\n      <th>9</th>\n      <td>2160</td>\n      <td>2750</td>\n      <td>368</td>\n      <td>[1950.0, 2402.0)</td>\n    </tr>\n    <tr>\n      <th>10</th>\n      <td>3110</td>\n      <td>3200</td>\n      <td>484</td>\n      <td>[2854.0, 3306.0)</td>\n    </tr>\n    <tr>\n      <th>11</th>\n      <td>2040</td>\n      <td>2150</td>\n      <td>305</td>\n      <td>[1950.0, 2402.0)</td>\n    </tr>\n    <tr>\n      <th>12</th>\n      <td>2540</td>\n      <td>3150</td>\n      <td>527</td>\n      <td>[2402.0, 2854.0)</td>\n    </tr>\n    <tr>\n      <th>13</th>\n      <td>3403</td>\n      <td>3750</td>\n      <td>660</td>\n      <td>[3306.0, 3758.0)</td>\n    </tr>\n    <tr>\n      <th>14</th>\n      <td>2500</td>\n      <td>3150</td>\n      <td>502</td>\n      <td>[2402.0, 2854.0)</td>\n    </tr>\n    <tr>\n      <th>15</th>\n      <td>3146</td>\n      <td>3550</td>\n      <td>582</td>\n      <td>[2854.0, 3306.0)</td>\n    </tr>\n    <tr>\n      <th>15</th>\n      <td>3146</td>\n      <td>3550</td>\n      <td>582</td>\n      <td>[2854.0, 3306.0)</td>\n    </tr>\n    <tr>\n      <th>16</th>\n      <td>2130</td>\n      <td>3150</td>\n      <td>580</td>\n      <td>[1950.0, 2402.0)</td>\n    </tr>\n    <tr>\n      <th>17</th>\n      <td>3236</td>\n      <td>3650</td>\n      <td>690</td>\n      <td>[2854.0, 3306.0)</td>\n    </tr>\n    <tr>\n      <th>18</th>\n      <td>2866</td>\n      <td>2950</td>\n      <td>427</td>\n      <td>[2854.0, 3306.0)</td>\n    </tr>\n    <tr>\n      <th>19</th>\n      <td>3146</td>\n      <td>3350</td>\n      <td>528</td>\n      <td>[2854.0, 3306.0)</td>\n    </tr>\n    <tr>\n      <th>19</th>\n      <td>3146</td>\n      <td>3350</td>\n      <td>528</td>\n      <td>[2854.0, 3306.0)</td>\n    </tr>\n    <tr>\n      <th>20</th>\n      <td>2250</td>\n      <td>2750</td>\n      <td>380</td>\n      <td>[1950.0, 2402.0)</td>\n    </tr>\n    <tr>\n      <th>21</th>\n      <td>2610</td>\n      <td>3150</td>\n      <td>648</td>\n      <td>[2402.0, 2854.0)</td>\n    </tr>\n    <tr>\n      <th>22</th>\n      <td>2270</td>\n      <td>2350</td>\n      <td>4072</td>\n      <td>[1950.0, 2402.0)</td>\n    </tr>\n    <tr>\n      <th>23</th>\n      <td>2420</td>\n      <td>2250</td>\n      <td>416</td>\n      <td>[2402.0, 2854.0)</td>\n    </tr>\n    <tr>\n      <th>24</th>\n      <td>3760</td>\n      <td>4150</td>\n      <td>810</td>\n      <td>[3758.0, 4212.3)</td>\n    </tr>\n    <tr>\n      <th>25</th>\n      <td>4210</td>\n      <td>4850</td>\n      <td>907</td>\n      <td>[3758.0, 4212.3)</td>\n    </tr>\n  </tbody>\n</table>\n</div>"
     },
     "execution_count": 4,
     "metadata": {},
     "output_type": "execute_result"
    }
   ],
   "execution_count": 4
  },
  {
   "metadata": {},
   "cell_type": "markdown",
   "source": [
    "## Число предприятий"
   ],
   "id": "4c654c49963bb207"
  },
  {
   "metadata": {
    "ExecuteTime": {
     "end_time": "2024-05-06T11:50:26.653409800Z",
     "start_time": "2024-05-06T11:50:26.626779Z"
    }
   },
   "cell_type": "code",
   "source": [
    "count_series = cut_group['Диапазон'].count().rename(\"Количество предприятий\").sort_values()\n",
    "count_series"
   ],
   "id": "9435429ae7ee5642",
   "outputs": [
    {
     "data": {
      "text/plain": "Диапазон\n[3306.0, 3758.0)     1\n[2402.0, 2854.0)     4\n[3758.0, 4212.3)     4\n[1950.0, 2402.0)     7\n[2854.0, 3306.0)    11\nName: Количество предприятий, dtype: int64"
     },
     "execution_count": 5,
     "metadata": {},
     "output_type": "execute_result"
    }
   ],
   "execution_count": 5
  },
  {
   "metadata": {},
   "cell_type": "markdown",
   "source": [
    "## Совокупный объём выпущенной продукции"
   ],
   "id": "70799e6a9632be54"
  },
  {
   "metadata": {
    "ExecuteTime": {
     "end_time": "2024-05-06T11:50:26.701423600Z",
     "start_time": "2024-05-06T11:50:26.631920900Z"
    }
   },
   "cell_type": "code",
   "source": [
    "cut_group['Среднегодовой объем выпускаемой продукции (тыс. руб.)'].sum().rename(\"Совокупный объём выпущенной продукции\").sort_values()"
   ],
   "id": "9588b0b6ada0036e",
   "outputs": [
    {
     "data": {
      "text/plain": "Диапазон\n[3306.0, 3758.0)     3403\n[2402.0, 2854.0)    10070\n[1950.0, 2402.0)    14900\n[3758.0, 4212.3)    16080\n[2854.0, 3306.0)    34180\nName: Совокупный объём выпущенной продукции, dtype: int64"
     },
     "execution_count": 6,
     "metadata": {},
     "output_type": "execute_result"
    }
   ],
   "execution_count": 6
  },
  {
   "metadata": {},
   "cell_type": "markdown",
   "source": [
    "## Постройте аналитическую таблицу, позволяющую выявить зависимость между объемом выпускаемой продукции и средним числом случаев травматизма, приходящихся на одного работающего"
   ],
   "id": "118c2aa143ae83bb"
  },
  {
   "metadata": {
    "ExecuteTime": {
     "end_time": "2024-05-06T11:50:26.750201700Z",
     "start_time": "2024-05-06T11:50:26.639514700Z"
    }
   },
   "cell_type": "code",
   "source": [
    "travm_df = df[['Среднегодовой объем выпускаемой продукции (тыс. руб.)', 'Среднее списочное число рабочих (чел.)', 'Количество посещений больниц в связи с травмами']]\n",
    "travm_df = travm_df.assign(Травматизм = lambda row: (row['Количество посещений больниц в связи с травмами'] / row['Среднее списочное число рабочих (чел.)']))\n",
    "\n",
    "travm_df = travm_df.merge(scut_df, left_on='Среднегодовой объем выпускаемой продукции (тыс. руб.)', right_index=True)\n",
    "travm_df = travm_df.sort_values(by=[\"Среднегодовой объем выпускаемой продукции (тыс. руб.)\", 'Среднее списочное число рабочих (чел.)'], ascending=[False, False])\n",
    "\n",
    "travm_df"
   ],
   "id": "e433e538ef7ef6e3",
   "outputs": [
    {
     "data": {
      "text/plain": "                   Среднегодовой объем выпускаемой продукции (тыс. руб.)  \\\nНомер предприятия                                                          \n25                                                              4210       \n4                                                               4100       \n1                                                               4010       \n24                                                              3760       \n13                                                              3403       \n6                                                               3266       \n17                                                              3236       \n15                                                              3146       \n15                                                              3146       \n19                                                              3146       \n19                                                              3146       \n5                                                               3116       \n10                                                              3110       \n2                                                               3016       \n8                                                               2986       \n18                                                              2866       \n21                                                              2610       \n12                                                              2540       \n14                                                              2500       \n23                                                              2420       \n22                                                              2270       \n20                                                              2250       \n9                                                               2160       \n16                                                              2130       \n7                                                               2100       \n11                                                              2040       \n3                                                               1950       \n\n                   Среднее списочное число рабочих (чел.)  \\\nНомер предприятия                                           \n25                                                   4850   \n4                                                    4750   \n1                                                    4270   \n24                                                   4150   \n13                                                   3750   \n6                                                    3900   \n17                                                   3650   \n15                                                   3550   \n15                                                   3550   \n19                                                   3350   \n19                                                   3350   \n5                                                    3550   \n10                                                   3200   \n2                                                    4250   \n8                                                    3650   \n18                                                   2950   \n21                                                   3150   \n12                                                   3150   \n14                                                   3150   \n23                                                   2250   \n22                                                   2350   \n20                                                   2750   \n9                                                    2750   \n16                                                   3150   \n7                                                    2850   \n11                                                   2150   \n3                                                    2850   \n\n                   Количество посещений больниц в связи с травмами  \\\nНомер предприятия                                                    \n25                                                             907   \n4                                                              987   \n1                                                              937   \n24                                                             810   \n13                                                             660   \n6                                                              665   \n17                                                             690   \n15                                                             582   \n15                                                             582   \n19                                                             528   \n19                                                             528   \n5                                                              632   \n10                                                             484   \n2                                                              702   \n8                                                              572   \n18                                                             427   \n21                                                             648   \n12                                                             527   \n14                                                             502   \n23                                                             416   \n22                                                            4072   \n20                                                             380   \n9                                                              368   \n16                                                             580   \n7                                                              338   \n11                                                             305   \n3                                                              389   \n\n                   Травматизм          Диапазон  \nНомер предприятия                                \n25                   0.187010  [3758.0, 4212.3)  \n4                    0.207789  [3758.0, 4212.3)  \n1                    0.219438  [3758.0, 4212.3)  \n24                   0.195181  [3758.0, 4212.3)  \n13                   0.176000  [3306.0, 3758.0)  \n6                    0.170513  [2854.0, 3306.0)  \n17                   0.189041  [2854.0, 3306.0)  \n15                   0.163944  [2854.0, 3306.0)  \n15                   0.163944  [2854.0, 3306.0)  \n19                   0.157612  [2854.0, 3306.0)  \n19                   0.157612  [2854.0, 3306.0)  \n5                    0.178028  [2854.0, 3306.0)  \n10                   0.151250  [2854.0, 3306.0)  \n2                    0.165176  [2854.0, 3306.0)  \n8                    0.156712  [2854.0, 3306.0)  \n18                   0.144746  [2854.0, 3306.0)  \n21                   0.205714  [2402.0, 2854.0)  \n12                   0.167302  [2402.0, 2854.0)  \n14                   0.159365  [2402.0, 2854.0)  \n23                   0.184889  [2402.0, 2854.0)  \n22                   1.732766  [1950.0, 2402.0)  \n20                   0.138182  [1950.0, 2402.0)  \n9                    0.133818  [1950.0, 2402.0)  \n16                   0.184127  [1950.0, 2402.0)  \n7                    0.118596  [1950.0, 2402.0)  \n11                   0.141860  [1950.0, 2402.0)  \n3                    0.136491  [1950.0, 2402.0)  ",
      "text/html": "<div>\n<style scoped>\n    .dataframe tbody tr th:only-of-type {\n        vertical-align: middle;\n    }\n\n    .dataframe tbody tr th {\n        vertical-align: top;\n    }\n\n    .dataframe thead th {\n        text-align: right;\n    }\n</style>\n<table border=\"1\" class=\"dataframe\">\n  <thead>\n    <tr style=\"text-align: right;\">\n      <th></th>\n      <th>Среднегодовой объем выпускаемой продукции (тыс. руб.)</th>\n      <th>Среднее списочное число рабочих (чел.)</th>\n      <th>Количество посещений больниц в связи с травмами</th>\n      <th>Травматизм</th>\n      <th>Диапазон</th>\n    </tr>\n    <tr>\n      <th>Номер предприятия</th>\n      <th></th>\n      <th></th>\n      <th></th>\n      <th></th>\n      <th></th>\n    </tr>\n  </thead>\n  <tbody>\n    <tr>\n      <th>25</th>\n      <td>4210</td>\n      <td>4850</td>\n      <td>907</td>\n      <td>0.187010</td>\n      <td>[3758.0, 4212.3)</td>\n    </tr>\n    <tr>\n      <th>4</th>\n      <td>4100</td>\n      <td>4750</td>\n      <td>987</td>\n      <td>0.207789</td>\n      <td>[3758.0, 4212.3)</td>\n    </tr>\n    <tr>\n      <th>1</th>\n      <td>4010</td>\n      <td>4270</td>\n      <td>937</td>\n      <td>0.219438</td>\n      <td>[3758.0, 4212.3)</td>\n    </tr>\n    <tr>\n      <th>24</th>\n      <td>3760</td>\n      <td>4150</td>\n      <td>810</td>\n      <td>0.195181</td>\n      <td>[3758.0, 4212.3)</td>\n    </tr>\n    <tr>\n      <th>13</th>\n      <td>3403</td>\n      <td>3750</td>\n      <td>660</td>\n      <td>0.176000</td>\n      <td>[3306.0, 3758.0)</td>\n    </tr>\n    <tr>\n      <th>6</th>\n      <td>3266</td>\n      <td>3900</td>\n      <td>665</td>\n      <td>0.170513</td>\n      <td>[2854.0, 3306.0)</td>\n    </tr>\n    <tr>\n      <th>17</th>\n      <td>3236</td>\n      <td>3650</td>\n      <td>690</td>\n      <td>0.189041</td>\n      <td>[2854.0, 3306.0)</td>\n    </tr>\n    <tr>\n      <th>15</th>\n      <td>3146</td>\n      <td>3550</td>\n      <td>582</td>\n      <td>0.163944</td>\n      <td>[2854.0, 3306.0)</td>\n    </tr>\n    <tr>\n      <th>15</th>\n      <td>3146</td>\n      <td>3550</td>\n      <td>582</td>\n      <td>0.163944</td>\n      <td>[2854.0, 3306.0)</td>\n    </tr>\n    <tr>\n      <th>19</th>\n      <td>3146</td>\n      <td>3350</td>\n      <td>528</td>\n      <td>0.157612</td>\n      <td>[2854.0, 3306.0)</td>\n    </tr>\n    <tr>\n      <th>19</th>\n      <td>3146</td>\n      <td>3350</td>\n      <td>528</td>\n      <td>0.157612</td>\n      <td>[2854.0, 3306.0)</td>\n    </tr>\n    <tr>\n      <th>5</th>\n      <td>3116</td>\n      <td>3550</td>\n      <td>632</td>\n      <td>0.178028</td>\n      <td>[2854.0, 3306.0)</td>\n    </tr>\n    <tr>\n      <th>10</th>\n      <td>3110</td>\n      <td>3200</td>\n      <td>484</td>\n      <td>0.151250</td>\n      <td>[2854.0, 3306.0)</td>\n    </tr>\n    <tr>\n      <th>2</th>\n      <td>3016</td>\n      <td>4250</td>\n      <td>702</td>\n      <td>0.165176</td>\n      <td>[2854.0, 3306.0)</td>\n    </tr>\n    <tr>\n      <th>8</th>\n      <td>2986</td>\n      <td>3650</td>\n      <td>572</td>\n      <td>0.156712</td>\n      <td>[2854.0, 3306.0)</td>\n    </tr>\n    <tr>\n      <th>18</th>\n      <td>2866</td>\n      <td>2950</td>\n      <td>427</td>\n      <td>0.144746</td>\n      <td>[2854.0, 3306.0)</td>\n    </tr>\n    <tr>\n      <th>21</th>\n      <td>2610</td>\n      <td>3150</td>\n      <td>648</td>\n      <td>0.205714</td>\n      <td>[2402.0, 2854.0)</td>\n    </tr>\n    <tr>\n      <th>12</th>\n      <td>2540</td>\n      <td>3150</td>\n      <td>527</td>\n      <td>0.167302</td>\n      <td>[2402.0, 2854.0)</td>\n    </tr>\n    <tr>\n      <th>14</th>\n      <td>2500</td>\n      <td>3150</td>\n      <td>502</td>\n      <td>0.159365</td>\n      <td>[2402.0, 2854.0)</td>\n    </tr>\n    <tr>\n      <th>23</th>\n      <td>2420</td>\n      <td>2250</td>\n      <td>416</td>\n      <td>0.184889</td>\n      <td>[2402.0, 2854.0)</td>\n    </tr>\n    <tr>\n      <th>22</th>\n      <td>2270</td>\n      <td>2350</td>\n      <td>4072</td>\n      <td>1.732766</td>\n      <td>[1950.0, 2402.0)</td>\n    </tr>\n    <tr>\n      <th>20</th>\n      <td>2250</td>\n      <td>2750</td>\n      <td>380</td>\n      <td>0.138182</td>\n      <td>[1950.0, 2402.0)</td>\n    </tr>\n    <tr>\n      <th>9</th>\n      <td>2160</td>\n      <td>2750</td>\n      <td>368</td>\n      <td>0.133818</td>\n      <td>[1950.0, 2402.0)</td>\n    </tr>\n    <tr>\n      <th>16</th>\n      <td>2130</td>\n      <td>3150</td>\n      <td>580</td>\n      <td>0.184127</td>\n      <td>[1950.0, 2402.0)</td>\n    </tr>\n    <tr>\n      <th>7</th>\n      <td>2100</td>\n      <td>2850</td>\n      <td>338</td>\n      <td>0.118596</td>\n      <td>[1950.0, 2402.0)</td>\n    </tr>\n    <tr>\n      <th>11</th>\n      <td>2040</td>\n      <td>2150</td>\n      <td>305</td>\n      <td>0.141860</td>\n      <td>[1950.0, 2402.0)</td>\n    </tr>\n    <tr>\n      <th>3</th>\n      <td>1950</td>\n      <td>2850</td>\n      <td>389</td>\n      <td>0.136491</td>\n      <td>[1950.0, 2402.0)</td>\n    </tr>\n  </tbody>\n</table>\n</div>"
     },
     "execution_count": 7,
     "metadata": {},
     "output_type": "execute_result"
    }
   ],
   "execution_count": 7
  },
  {
   "metadata": {
    "ExecuteTime": {
     "end_time": "2024-05-06T11:50:27.383756300Z",
     "start_time": "2024-05-06T11:50:26.656421Z"
    }
   },
   "cell_type": "code",
   "source": [
    "travm_df.plot(x='Среднегодовой объем выпускаемой продукции (тыс. руб.)', y='Травматизм', xticks=range(1950, 4200 + 1, 250))"
   ],
   "id": "f6fcbdc6cbd85ff2",
   "outputs": [
    {
     "ename": "ImportError",
     "evalue": "matplotlib is required for plotting when the default backend \"matplotlib\" is selected.",
     "output_type": "error",
     "traceback": [
      "\u001B[1;31m---------------------------------------------------------------------------\u001B[0m",
      "\u001B[1;31mImportError\u001B[0m                               Traceback (most recent call last)",
      "Cell \u001B[1;32mIn[8], line 1\u001B[0m\n\u001B[1;32m----> 1\u001B[0m travm_df\u001B[38;5;241m.\u001B[39mplot(x\u001B[38;5;241m=\u001B[39m\u001B[38;5;124m'\u001B[39m\u001B[38;5;124mСреднегодовой объем выпускаемой продукции (тыс. руб.)\u001B[39m\u001B[38;5;124m'\u001B[39m, y\u001B[38;5;241m=\u001B[39m\u001B[38;5;124m'\u001B[39m\u001B[38;5;124mТравматизм\u001B[39m\u001B[38;5;124m'\u001B[39m, xticks\u001B[38;5;241m=\u001B[39m\u001B[38;5;28mrange\u001B[39m(\u001B[38;5;241m1950\u001B[39m, \u001B[38;5;241m4200\u001B[39m \u001B[38;5;241m+\u001B[39m \u001B[38;5;241m1\u001B[39m, \u001B[38;5;241m250\u001B[39m))\n",
      "File \u001B[1;32m~\\.conda\\envs\\mat_l\\Lib\\site-packages\\pandas\\plotting\\_core.py:947\u001B[0m, in \u001B[0;36mPlotAccessor.__call__\u001B[1;34m(self, *args, **kwargs)\u001B[0m\n\u001B[0;32m    946\u001B[0m \u001B[38;5;28;01mdef\u001B[39;00m \u001B[38;5;21m__call__\u001B[39m(\u001B[38;5;28mself\u001B[39m, \u001B[38;5;241m*\u001B[39margs, \u001B[38;5;241m*\u001B[39m\u001B[38;5;241m*\u001B[39mkwargs):\n\u001B[1;32m--> 947\u001B[0m     plot_backend \u001B[38;5;241m=\u001B[39m _get_plot_backend(kwargs\u001B[38;5;241m.\u001B[39mpop(\u001B[38;5;124m\"\u001B[39m\u001B[38;5;124mbackend\u001B[39m\u001B[38;5;124m\"\u001B[39m, \u001B[38;5;28;01mNone\u001B[39;00m))\n\u001B[0;32m    949\u001B[0m     x, y, kind, kwargs \u001B[38;5;241m=\u001B[39m \u001B[38;5;28mself\u001B[39m\u001B[38;5;241m.\u001B[39m_get_call_args(\n\u001B[0;32m    950\u001B[0m         plot_backend\u001B[38;5;241m.\u001B[39m\u001B[38;5;18m__name__\u001B[39m, \u001B[38;5;28mself\u001B[39m\u001B[38;5;241m.\u001B[39m_parent, args, kwargs\n\u001B[0;32m    951\u001B[0m     )\n\u001B[0;32m    953\u001B[0m     kind \u001B[38;5;241m=\u001B[39m \u001B[38;5;28mself\u001B[39m\u001B[38;5;241m.\u001B[39m_kind_aliases\u001B[38;5;241m.\u001B[39mget(kind, kind)\n",
      "File \u001B[1;32m~\\.conda\\envs\\mat_l\\Lib\\site-packages\\pandas\\plotting\\_core.py:1944\u001B[0m, in \u001B[0;36m_get_plot_backend\u001B[1;34m(backend)\u001B[0m\n\u001B[0;32m   1941\u001B[0m \u001B[38;5;28;01mif\u001B[39;00m backend_str \u001B[38;5;129;01min\u001B[39;00m _backends:\n\u001B[0;32m   1942\u001B[0m     \u001B[38;5;28;01mreturn\u001B[39;00m _backends[backend_str]\n\u001B[1;32m-> 1944\u001B[0m module \u001B[38;5;241m=\u001B[39m _load_backend(backend_str)\n\u001B[0;32m   1945\u001B[0m _backends[backend_str] \u001B[38;5;241m=\u001B[39m module\n\u001B[0;32m   1946\u001B[0m \u001B[38;5;28;01mreturn\u001B[39;00m module\n",
      "File \u001B[1;32m~\\.conda\\envs\\mat_l\\Lib\\site-packages\\pandas\\plotting\\_core.py:1874\u001B[0m, in \u001B[0;36m_load_backend\u001B[1;34m(backend)\u001B[0m\n\u001B[0;32m   1872\u001B[0m         module \u001B[38;5;241m=\u001B[39m importlib\u001B[38;5;241m.\u001B[39mimport_module(\u001B[38;5;124m\"\u001B[39m\u001B[38;5;124mpandas.plotting._matplotlib\u001B[39m\u001B[38;5;124m\"\u001B[39m)\n\u001B[0;32m   1873\u001B[0m     \u001B[38;5;28;01mexcept\u001B[39;00m \u001B[38;5;167;01mImportError\u001B[39;00m:\n\u001B[1;32m-> 1874\u001B[0m         \u001B[38;5;28;01mraise\u001B[39;00m \u001B[38;5;167;01mImportError\u001B[39;00m(\n\u001B[0;32m   1875\u001B[0m             \u001B[38;5;124m\"\u001B[39m\u001B[38;5;124mmatplotlib is required for plotting when the \u001B[39m\u001B[38;5;124m\"\u001B[39m\n\u001B[0;32m   1876\u001B[0m             \u001B[38;5;124m'\u001B[39m\u001B[38;5;124mdefault backend \u001B[39m\u001B[38;5;124m\"\u001B[39m\u001B[38;5;124mmatplotlib\u001B[39m\u001B[38;5;124m\"\u001B[39m\u001B[38;5;124m is selected.\u001B[39m\u001B[38;5;124m'\u001B[39m\n\u001B[0;32m   1877\u001B[0m         ) \u001B[38;5;28;01mfrom\u001B[39;00m \u001B[38;5;28;01mNone\u001B[39;00m\n\u001B[0;32m   1878\u001B[0m     \u001B[38;5;28;01mreturn\u001B[39;00m module\n\u001B[0;32m   1880\u001B[0m found_backend \u001B[38;5;241m=\u001B[39m \u001B[38;5;28;01mFalse\u001B[39;00m\n",
      "\u001B[1;31mImportError\u001B[0m: matplotlib is required for plotting when the default backend \"matplotlib\" is selected."
     ]
    }
   ],
   "execution_count": 8
  },
  {
   "metadata": {
    "ExecuteTime": {
     "end_time": "2024-05-06T11:50:27.394981Z",
     "start_time": "2024-05-06T11:50:27.385768Z"
    }
   },
   "cell_type": "code",
   "outputs": [],
   "execution_count": null,
   "source": [],
   "id": "53d51706d5189f0a"
  }
 ],
 "metadata": {
  "kernelspec": {
   "display_name": "Python 3",
   "language": "python",
   "name": "python3"
  },
  "language_info": {
   "codemirror_mode": {
    "name": "ipython",
    "version": 2
   },
   "file_extension": ".py",
   "mimetype": "text/x-python",
   "name": "python",
   "nbconvert_exporter": "python",
   "pygments_lexer": "ipython2",
   "version": "2.7.6"
  }
 },
 "nbformat": 4,
 "nbformat_minor": 5
}
