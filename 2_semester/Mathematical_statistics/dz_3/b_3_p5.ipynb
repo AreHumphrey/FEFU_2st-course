{
 "cells": [
  {
   "cell_type": "code",
   "id": "initial_id",
   "metadata": {
    "collapsed": true,
    "ExecuteTime": {
     "end_time": "2024-05-06T12:01:06.908324300Z",
     "start_time": "2024-05-06T12:01:06.509772500Z"
    }
   },
   "source": [
    "import pandas as pd"
   ],
   "outputs": [],
   "execution_count": 1
  },
  {
   "metadata": {
    "ExecuteTime": {
     "end_time": "2024-05-06T12:01:06.923924500Z",
     "start_time": "2024-05-06T12:01:06.911166Z"
    }
   },
   "cell_type": "code",
   "source": [
    "df = pd.read_csv(\"data_b3_p5.csv\", index_col=0)\n",
    "df"
   ],
   "id": "40f80e17422aab60",
   "outputs": [
    {
     "data": {
      "text/plain": "        Средняя ЗП  ФОТ\n№ цеха                 \n1             1100   20\n2             1230   30\n3             1150   10\n4             1350   40",
      "text/html": "<div>\n<style scoped>\n    .dataframe tbody tr th:only-of-type {\n        vertical-align: middle;\n    }\n\n    .dataframe tbody tr th {\n        vertical-align: top;\n    }\n\n    .dataframe thead th {\n        text-align: right;\n    }\n</style>\n<table border=\"1\" class=\"dataframe\">\n  <thead>\n    <tr style=\"text-align: right;\">\n      <th></th>\n      <th>Средняя ЗП</th>\n      <th>ФОТ</th>\n    </tr>\n    <tr>\n      <th>№ цеха</th>\n      <th></th>\n      <th></th>\n    </tr>\n  </thead>\n  <tbody>\n    <tr>\n      <th>1</th>\n      <td>1100</td>\n      <td>20</td>\n    </tr>\n    <tr>\n      <th>2</th>\n      <td>1230</td>\n      <td>30</td>\n    </tr>\n    <tr>\n      <th>3</th>\n      <td>1150</td>\n      <td>10</td>\n    </tr>\n    <tr>\n      <th>4</th>\n      <td>1350</td>\n      <td>40</td>\n    </tr>\n  </tbody>\n</table>\n</div>"
     },
     "execution_count": 2,
     "metadata": {},
     "output_type": "execute_result"
    }
   ],
   "execution_count": 2
  },
  {
   "metadata": {
    "ExecuteTime": {
     "end_time": "2024-05-06T12:01:06.929380800Z",
     "start_time": "2024-05-06T12:01:06.924923900Z"
    }
   },
   "cell_type": "code",
   "source": [
    "print(\n",
    "    f\"Средняя ЗП: {sum((df['Средняя ЗП'] * df['ФОТ']) / sum(df['ФОТ']))}\") # Матожидание"
   ],
   "id": "1acafda5ed14b9f7",
   "outputs": [
    {
     "name": "stdout",
     "output_type": "stream",
     "text": [
      "Средняя ЗП: 1244.0\n"
     ]
    }
   ],
   "execution_count": 3
  }
 ],
 "metadata": {
  "kernelspec": {
   "display_name": "Python 3",
   "language": "python",
   "name": "python3"
  },
  "language_info": {
   "codemirror_mode": {
    "name": "ipython",
    "version": 2
   },
   "file_extension": ".py",
   "mimetype": "text/x-python",
   "name": "python",
   "nbconvert_exporter": "python",
   "pygments_lexer": "ipython2",
   "version": "2.7.6"
  }
 },
 "nbformat": 4,
 "nbformat_minor": 5
}
