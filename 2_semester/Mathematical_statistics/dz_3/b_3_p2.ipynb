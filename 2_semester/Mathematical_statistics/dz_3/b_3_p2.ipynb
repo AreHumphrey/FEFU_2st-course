{
 "cells": [
  {
   "cell_type": "code",
   "id": "initial_id",
   "metadata": {
    "collapsed": true,
    "ExecuteTime": {
     "end_time": "2024-05-06T12:00:17.675985400Z",
     "start_time": "2024-05-06T12:00:17.251529900Z"
    }
   },
   "source": [
    "import pandas as pd"
   ],
   "outputs": [],
   "execution_count": 1
  },
  {
   "cell_type": "code",
   "execution_count": 1,
   "outputs": [],
   "source": [],
   "metadata": {
    "collapsed": false,
    "ExecuteTime": {
     "end_time": "2024-05-06T12:00:17.679773400Z",
     "start_time": "2024-05-06T12:00:17.677245800Z"
    }
   },
   "id": "88cb2b69884529a7"
  },
  {
   "metadata": {
    "ExecuteTime": {
     "end_time": "2024-05-06T12:00:17.694422700Z",
     "start_time": "2024-05-06T12:00:17.681389600Z"
    }
   },
   "cell_type": "code",
   "source": [
    "df = pd.read_csv(\"data_b3_p2.csv\", index_col=0)\n",
    "df"
   ],
   "id": "6f0acbdcfe8a031f",
   "outputs": [
    {
     "data": {
      "text/plain": "        Удельный вес мужчин (%)  Общее число рабочих (%)\n№ цеха                                                  \n1                          52.3                     31.6\n2                          66.4                     25.8\n3                          33.8                     42.6",
      "text/html": "<div>\n<style scoped>\n    .dataframe tbody tr th:only-of-type {\n        vertical-align: middle;\n    }\n\n    .dataframe tbody tr th {\n        vertical-align: top;\n    }\n\n    .dataframe thead th {\n        text-align: right;\n    }\n</style>\n<table border=\"1\" class=\"dataframe\">\n  <thead>\n    <tr style=\"text-align: right;\">\n      <th></th>\n      <th>Удельный вес мужчин (%)</th>\n      <th>Общее число рабочих (%)</th>\n    </tr>\n    <tr>\n      <th>№ цеха</th>\n      <th></th>\n      <th></th>\n    </tr>\n  </thead>\n  <tbody>\n    <tr>\n      <th>1</th>\n      <td>52.3</td>\n      <td>31.6</td>\n    </tr>\n    <tr>\n      <th>2</th>\n      <td>66.4</td>\n      <td>25.8</td>\n    </tr>\n    <tr>\n      <th>3</th>\n      <td>33.8</td>\n      <td>42.6</td>\n    </tr>\n  </tbody>\n</table>\n</div>"
     },
     "execution_count": 2,
     "metadata": {},
     "output_type": "execute_result"
    }
   ],
   "execution_count": 2
  },
  {
   "metadata": {
    "ExecuteTime": {
     "end_time": "2024-05-06T12:00:17.704269800Z",
     "start_time": "2024-05-06T12:00:17.697974300Z"
    }
   },
   "cell_type": "code",
   "source": [
    "print(\n",
    "    f\"Удельный вес в целом: {sum((df['Удельный вес мужчин (%)'] * df['Общее число рабочих (%)']) / sum(df['Общее число рабочих (%)']))}%\") # Матожидание"
   ],
   "id": "6f4dfccc448d8af4",
   "outputs": [
    {
     "name": "stdout",
     "output_type": "stream",
     "text": [
      "Удельный вес в целом: 48.0568%\n"
     ]
    }
   ],
   "execution_count": 3
  },
  {
   "metadata": {
    "ExecuteTime": {
     "end_time": "2024-05-06T12:00:17.705267400Z",
     "start_time": "2024-05-06T12:00:17.702748600Z"
    }
   },
   "cell_type": "code",
   "outputs": [],
   "execution_count": 3,
   "source": [],
   "id": "f6081a9050c39ff4"
  }
 ],
 "metadata": {
  "kernelspec": {
   "display_name": "Python 3",
   "language": "python",
   "name": "python3"
  },
  "language_info": {
   "codemirror_mode": {
    "name": "ipython",
    "version": 2
   },
   "file_extension": ".py",
   "mimetype": "text/x-python",
   "name": "python",
   "nbconvert_exporter": "python",
   "pygments_lexer": "ipython2",
   "version": "2.7.6"
  }
 },
 "nbformat": 4,
 "nbformat_minor": 5
}
