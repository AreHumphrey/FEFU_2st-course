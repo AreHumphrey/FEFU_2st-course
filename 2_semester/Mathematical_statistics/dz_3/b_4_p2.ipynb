{
 "cells": [
  {
   "cell_type": "code",
   "id": "initial_id",
   "metadata": {
    "collapsed": true,
    "ExecuteTime": {
     "end_time": "2024-05-06T12:02:03.929319300Z",
     "start_time": "2024-05-06T12:02:03.535530200Z"
    }
   },
   "source": [
    "import pandas as pd"
   ],
   "outputs": [],
   "execution_count": 1
  },
  {
   "metadata": {
    "ExecuteTime": {
     "end_time": "2024-05-06T12:02:03.947599900Z",
     "start_time": "2024-05-06T12:02:03.931797400Z"
    }
   },
   "cell_type": "code",
   "source": [
    "df = pd.read_csv(\"data_b4_p2.csv\")\n",
    "df"
   ],
   "id": "bacfadec2f6c35b6",
   "outputs": [
    {
     "data": {
      "text/plain": "   Количество станков  Число рабочих\n0                   4             23\n1                   5             36\n2                   6             84\n3                   7             42\n4                   8             15",
      "text/html": "<div>\n<style scoped>\n    .dataframe tbody tr th:only-of-type {\n        vertical-align: middle;\n    }\n\n    .dataframe tbody tr th {\n        vertical-align: top;\n    }\n\n    .dataframe thead th {\n        text-align: right;\n    }\n</style>\n<table border=\"1\" class=\"dataframe\">\n  <thead>\n    <tr style=\"text-align: right;\">\n      <th></th>\n      <th>Количество станков</th>\n      <th>Число рабочих</th>\n    </tr>\n  </thead>\n  <tbody>\n    <tr>\n      <th>0</th>\n      <td>4</td>\n      <td>23</td>\n    </tr>\n    <tr>\n      <th>1</th>\n      <td>5</td>\n      <td>36</td>\n    </tr>\n    <tr>\n      <th>2</th>\n      <td>6</td>\n      <td>84</td>\n    </tr>\n    <tr>\n      <th>3</th>\n      <td>7</td>\n      <td>42</td>\n    </tr>\n    <tr>\n      <th>4</th>\n      <td>8</td>\n      <td>15</td>\n    </tr>\n  </tbody>\n</table>\n</div>"
     },
     "execution_count": 2,
     "metadata": {},
     "output_type": "execute_result"
    }
   ],
   "execution_count": 2
  },
  {
   "metadata": {
    "ExecuteTime": {
     "end_time": "2024-05-06T12:02:03.952521100Z",
     "start_time": "2024-05-06T12:02:03.946592700Z"
    }
   },
   "cell_type": "code",
   "source": [
    "mod = df.loc[df['Число рабочих'] == max(df['Число рабочих'])]\n",
    "mod_val = mod['Количество станков'].values[0]\n",
    "mod_val"
   ],
   "id": "7d7a5cb203aa77a2",
   "outputs": [
    {
     "data": {
      "text/plain": "6"
     },
     "execution_count": 3,
     "metadata": {},
     "output_type": "execute_result"
    }
   ],
   "execution_count": 3
  },
  {
   "metadata": {
    "ExecuteTime": {
     "end_time": "2024-05-06T12:02:03.978766100Z",
     "start_time": "2024-05-06T12:02:03.954521800Z"
    }
   },
   "cell_type": "code",
   "source": [
    "\n",
    "cdf = df.sort_values(by=['Число рабочих']).reset_index(drop=True)\n",
    "cdf['Число рабочих'] = cdf['Число рабочих'].cumsum()\n",
    "cdf\n",
    "\n",
    "mid_index = ((cdf.loc[cdf['Количество станков'] == mod_val]['Число рабочих'] + 1) / 2).values[0]\n",
    "mid_index\n",
    "\n",
    "cdf = cdf.sort_values(by=['Число рабочих'], ascending=False)\n",
    "cdf.loc[(cdf['Число рабочих'] >= mid_index)].sort_values(by=['Число рабочих'], ascending=True).head(1)['Количество станков'].values[0]\n"
   ],
   "id": "e502104420274c21",
   "outputs": [
    {
     "data": {
      "text/plain": "7"
     },
     "execution_count": 4,
     "metadata": {},
     "output_type": "execute_result"
    }
   ],
   "execution_count": 4
  }
 ],
 "metadata": {
  "kernelspec": {
   "display_name": "Python 3",
   "language": "python",
   "name": "python3"
  },
  "language_info": {
   "codemirror_mode": {
    "name": "ipython",
    "version": 2
   },
   "file_extension": ".py",
   "mimetype": "text/x-python",
   "name": "python",
   "nbconvert_exporter": "python",
   "pygments_lexer": "ipython2",
   "version": "2.7.6"
  }
 },
 "nbformat": 4,
 "nbformat_minor": 5
}
