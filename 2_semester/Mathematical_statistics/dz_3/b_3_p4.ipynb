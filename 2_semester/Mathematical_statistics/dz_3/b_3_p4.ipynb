{
 "cells": [
  {
   "metadata": {
    "ExecuteTime": {
     "end_time": "2024-05-06T12:00:49.397309200Z",
     "start_time": "2024-05-06T12:00:48.994742100Z"
    }
   },
   "cell_type": "code",
   "source": [
    "import pandas as pd"
   ],
   "id": "c22cafe058e6c449",
   "outputs": [],
   "execution_count": 1
  },
  {
   "cell_type": "code",
   "id": "initial_id",
   "metadata": {
    "collapsed": true,
    "ExecuteTime": {
     "end_time": "2024-05-06T12:00:49.413930200Z",
     "start_time": "2024-05-06T12:00:49.400781300Z"
    }
   },
   "source": [
    "df = pd.read_csv('data_b3_p4.csv')\n",
    "mid_int = [1900, 2100, 2300, 2500, 2700, 2900, 3100]\n",
    "step = 200\n",
    "df['Середина'] = mid_int\n",
    "df"
   ],
   "outputs": [
    {
     "data": {
      "text/plain": "  Количество туристов  Число гостиниц  Середина\n0           1800–2000             7.3      1900\n1           2000–2200            10.4      2100\n2           2200–2400            12.2      2300\n3           2400–2600            25.5      2500\n4           2600–2800            22.4      2700\n5           2800-3000            14.6      2900\n6           3000-3200             7.6      3100",
      "text/html": "<div>\n<style scoped>\n    .dataframe tbody tr th:only-of-type {\n        vertical-align: middle;\n    }\n\n    .dataframe tbody tr th {\n        vertical-align: top;\n    }\n\n    .dataframe thead th {\n        text-align: right;\n    }\n</style>\n<table border=\"1\" class=\"dataframe\">\n  <thead>\n    <tr style=\"text-align: right;\">\n      <th></th>\n      <th>Количество туристов</th>\n      <th>Число гостиниц</th>\n      <th>Середина</th>\n    </tr>\n  </thead>\n  <tbody>\n    <tr>\n      <th>0</th>\n      <td>1800–2000</td>\n      <td>7.3</td>\n      <td>1900</td>\n    </tr>\n    <tr>\n      <th>1</th>\n      <td>2000–2200</td>\n      <td>10.4</td>\n      <td>2100</td>\n    </tr>\n    <tr>\n      <th>2</th>\n      <td>2200–2400</td>\n      <td>12.2</td>\n      <td>2300</td>\n    </tr>\n    <tr>\n      <th>3</th>\n      <td>2400–2600</td>\n      <td>25.5</td>\n      <td>2500</td>\n    </tr>\n    <tr>\n      <th>4</th>\n      <td>2600–2800</td>\n      <td>22.4</td>\n      <td>2700</td>\n    </tr>\n    <tr>\n      <th>5</th>\n      <td>2800-3000</td>\n      <td>14.6</td>\n      <td>2900</td>\n    </tr>\n    <tr>\n      <th>6</th>\n      <td>3000-3200</td>\n      <td>7.6</td>\n      <td>3100</td>\n    </tr>\n  </tbody>\n</table>\n</div>"
     },
     "execution_count": 2,
     "metadata": {},
     "output_type": "execute_result"
    }
   ],
   "execution_count": 2
  },
  {
   "metadata": {
    "ExecuteTime": {
     "end_time": "2024-05-06T12:00:49.438709Z",
     "start_time": "2024-05-06T12:00:49.423763800Z"
    }
   },
   "cell_type": "code",
   "source": [
    "middle_diff = df.loc[(df['Число гостиниц'] == max(df['Число гостиниц']))]['Середина'].values[0]\n",
    "# middle_diff\n",
    "df['Разница'] = df['Середина'] - middle_diff\n",
    "df['Разница (s)'] = df['Разница'] / step  # Во имя упрощения отображения\n",
    "df['Варианта (s)'] = df['Разница (s)'] * df['Число гостиниц']\n",
    "df"
   ],
   "id": "16bfc4dea043ea12",
   "outputs": [
    {
     "data": {
      "text/plain": "  Количество туристов  Число гостиниц  Середина  Разница  Разница (s)  \\\n0           1800–2000             7.3      1900     -600         -3.0   \n1           2000–2200            10.4      2100     -400         -2.0   \n2           2200–2400            12.2      2300     -200         -1.0   \n3           2400–2600            25.5      2500        0          0.0   \n4           2600–2800            22.4      2700      200          1.0   \n5           2800-3000            14.6      2900      400          2.0   \n6           3000-3200             7.6      3100      600          3.0   \n\n   Варианта (s)  \n0         -21.9  \n1         -20.8  \n2         -12.2  \n3           0.0  \n4          22.4  \n5          29.2  \n6          22.8  ",
      "text/html": "<div>\n<style scoped>\n    .dataframe tbody tr th:only-of-type {\n        vertical-align: middle;\n    }\n\n    .dataframe tbody tr th {\n        vertical-align: top;\n    }\n\n    .dataframe thead th {\n        text-align: right;\n    }\n</style>\n<table border=\"1\" class=\"dataframe\">\n  <thead>\n    <tr style=\"text-align: right;\">\n      <th></th>\n      <th>Количество туристов</th>\n      <th>Число гостиниц</th>\n      <th>Середина</th>\n      <th>Разница</th>\n      <th>Разница (s)</th>\n      <th>Варианта (s)</th>\n    </tr>\n  </thead>\n  <tbody>\n    <tr>\n      <th>0</th>\n      <td>1800–2000</td>\n      <td>7.3</td>\n      <td>1900</td>\n      <td>-600</td>\n      <td>-3.0</td>\n      <td>-21.9</td>\n    </tr>\n    <tr>\n      <th>1</th>\n      <td>2000–2200</td>\n      <td>10.4</td>\n      <td>2100</td>\n      <td>-400</td>\n      <td>-2.0</td>\n      <td>-20.8</td>\n    </tr>\n    <tr>\n      <th>2</th>\n      <td>2200–2400</td>\n      <td>12.2</td>\n      <td>2300</td>\n      <td>-200</td>\n      <td>-1.0</td>\n      <td>-12.2</td>\n    </tr>\n    <tr>\n      <th>3</th>\n      <td>2400–2600</td>\n      <td>25.5</td>\n      <td>2500</td>\n      <td>0</td>\n      <td>0.0</td>\n      <td>0.0</td>\n    </tr>\n    <tr>\n      <th>4</th>\n      <td>2600–2800</td>\n      <td>22.4</td>\n      <td>2700</td>\n      <td>200</td>\n      <td>1.0</td>\n      <td>22.4</td>\n    </tr>\n    <tr>\n      <th>5</th>\n      <td>2800-3000</td>\n      <td>14.6</td>\n      <td>2900</td>\n      <td>400</td>\n      <td>2.0</td>\n      <td>29.2</td>\n    </tr>\n    <tr>\n      <th>6</th>\n      <td>3000-3200</td>\n      <td>7.6</td>\n      <td>3100</td>\n      <td>600</td>\n      <td>3.0</td>\n      <td>22.8</td>\n    </tr>\n  </tbody>\n</table>\n</div>"
     },
     "execution_count": 3,
     "metadata": {},
     "output_type": "execute_result"
    }
   ],
   "execution_count": 3
  },
  {
   "metadata": {
    "ExecuteTime": {
     "end_time": "2024-05-06T12:00:49.481560Z",
     "start_time": "2024-05-06T12:00:49.427645400Z"
    }
   },
   "cell_type": "code",
   "source": [
    "mid_arithm = sum(df['Варианта (s)'] * step) / sum(df['Число гостиниц'])\n",
    "selective_mean = mid_arithm + middle_diff\n",
    "selective_mean"
   ],
   "id": "ecd297049fb0a519",
   "outputs": [
    {
     "data": {
      "text/plain": "2539.0"
     },
     "execution_count": 4,
     "metadata": {},
     "output_type": "execute_result"
    }
   ],
   "execution_count": 4
  }
 ],
 "metadata": {
  "kernelspec": {
   "display_name": "Python 3",
   "language": "python",
   "name": "python3"
  },
  "language_info": {
   "codemirror_mode": {
    "name": "ipython",
    "version": 2
   },
   "file_extension": ".py",
   "mimetype": "text/x-python",
   "name": "python",
   "nbconvert_exporter": "python",
   "pygments_lexer": "ipython2",
   "version": "2.7.6"
  }
 },
 "nbformat": 4,
 "nbformat_minor": 5
}
