{
 "cells": [
  {
   "metadata": {
    "ExecuteTime": {
     "end_time": "2024-05-06T12:12:08.115077600Z",
     "start_time": "2024-05-06T12:12:07.438023500Z"
    }
   },
   "cell_type": "code",
   "source": [
    "import pandas as pd\n",
    "from math import sqrt"
   ],
   "id": "9b98852124aaf42e",
   "outputs": [],
   "execution_count": 1
  },
  {
   "cell_type": "code",
   "id": "initial_id",
   "metadata": {
    "collapsed": true,
    "ExecuteTime": {
     "end_time": "2024-05-06T12:12:08.147556400Z",
     "start_time": "2024-05-06T12:12:08.124283300Z"
    }
   },
   "source": [
    "df = pd.read_csv('data_b5_p2.csv', index_col=0)\n",
    "mid_int = [50, 200, 400, 750, 2000, 4000]\n",
    "df['Середина интервала'] = mid_int  \n",
    "df"
   ],
   "outputs": [
    {
     "data": {
      "text/plain": "                    Число предприятий  Середина интервала\nГруппы предприятий                                       \n100<                               50                  50\n100-300                            30                 200\n300-500                            10                 400\n500-1000                            6                 750\n1000-3000                           3                2000\n>3000                               1                4000",
      "text/html": "<div>\n<style scoped>\n    .dataframe tbody tr th:only-of-type {\n        vertical-align: middle;\n    }\n\n    .dataframe tbody tr th {\n        vertical-align: top;\n    }\n\n    .dataframe thead th {\n        text-align: right;\n    }\n</style>\n<table border=\"1\" class=\"dataframe\">\n  <thead>\n    <tr style=\"text-align: right;\">\n      <th></th>\n      <th>Число предприятий</th>\n      <th>Середина интервала</th>\n    </tr>\n    <tr>\n      <th>Группы предприятий</th>\n      <th></th>\n      <th></th>\n    </tr>\n  </thead>\n  <tbody>\n    <tr>\n      <th>100&lt;</th>\n      <td>50</td>\n      <td>50</td>\n    </tr>\n    <tr>\n      <th>100-300</th>\n      <td>30</td>\n      <td>200</td>\n    </tr>\n    <tr>\n      <th>300-500</th>\n      <td>10</td>\n      <td>400</td>\n    </tr>\n    <tr>\n      <th>500-1000</th>\n      <td>6</td>\n      <td>750</td>\n    </tr>\n    <tr>\n      <th>1000-3000</th>\n      <td>3</td>\n      <td>2000</td>\n    </tr>\n    <tr>\n      <th>&gt;3000</th>\n      <td>1</td>\n      <td>4000</td>\n    </tr>\n  </tbody>\n</table>\n</div>"
     },
     "execution_count": 2,
     "metadata": {},
     "output_type": "execute_result"
    }
   ],
   "execution_count": 2
  },
  {
   "metadata": {
    "ExecuteTime": {
     "end_time": "2024-05-06T12:12:08.164083900Z",
     "start_time": "2024-05-06T12:12:08.147556400Z"
    }
   },
   "cell_type": "code",
   "source": [
    "cdf = df.copy()\n",
    "total_freq = sum(cdf['Число предприятий'])\n",
    "cdf['Варианта (s)'] = cdf['Число предприятий'] * cdf['Середина интервала']\n",
    "cdf"
   ],
   "id": "3db48f452eb9a57e",
   "outputs": [
    {
     "data": {
      "text/plain": "                    Число предприятий  Середина интервала  Варианта (s)\nГруппы предприятий                                                     \n100<                               50                  50          2500\n100-300                            30                 200          6000\n300-500                            10                 400          4000\n500-1000                            6                 750          4500\n1000-3000                           3                2000          6000\n>3000                               1                4000          4000",
      "text/html": "<div>\n<style scoped>\n    .dataframe tbody tr th:only-of-type {\n        vertical-align: middle;\n    }\n\n    .dataframe tbody tr th {\n        vertical-align: top;\n    }\n\n    .dataframe thead th {\n        text-align: right;\n    }\n</style>\n<table border=\"1\" class=\"dataframe\">\n  <thead>\n    <tr style=\"text-align: right;\">\n      <th></th>\n      <th>Число предприятий</th>\n      <th>Середина интервала</th>\n      <th>Варианта (s)</th>\n    </tr>\n    <tr>\n      <th>Группы предприятий</th>\n      <th></th>\n      <th></th>\n      <th></th>\n    </tr>\n  </thead>\n  <tbody>\n    <tr>\n      <th>100&lt;</th>\n      <td>50</td>\n      <td>50</td>\n      <td>2500</td>\n    </tr>\n    <tr>\n      <th>100-300</th>\n      <td>30</td>\n      <td>200</td>\n      <td>6000</td>\n    </tr>\n    <tr>\n      <th>300-500</th>\n      <td>10</td>\n      <td>400</td>\n      <td>4000</td>\n    </tr>\n    <tr>\n      <th>500-1000</th>\n      <td>6</td>\n      <td>750</td>\n      <td>4500</td>\n    </tr>\n    <tr>\n      <th>1000-3000</th>\n      <td>3</td>\n      <td>2000</td>\n      <td>6000</td>\n    </tr>\n    <tr>\n      <th>&gt;3000</th>\n      <td>1</td>\n      <td>4000</td>\n      <td>4000</td>\n    </tr>\n  </tbody>\n</table>\n</div>"
     },
     "execution_count": 3,
     "metadata": {},
     "output_type": "execute_result"
    }
   ],
   "execution_count": 3
  },
  {
   "metadata": {
    "ExecuteTime": {
     "end_time": "2024-05-06T12:12:08.205700500Z",
     "start_time": "2024-05-06T12:12:08.164083900Z"
    }
   },
   "cell_type": "code",
   "source": [
    "selective_mean = sum(cdf['Варианта (s)']) / total_freq\n",
    "selective_mean"
   ],
   "id": "fc23460326fda62a",
   "outputs": [
    {
     "data": {
      "text/plain": "270.0"
     },
     "execution_count": 4,
     "metadata": {},
     "output_type": "execute_result"
    }
   ],
   "execution_count": 4
  },
  {
   "metadata": {
    "ExecuteTime": {
     "end_time": "2024-05-06T12:12:08.296937600Z",
     "start_time": "2024-05-06T12:12:08.172561800Z"
    }
   },
   "cell_type": "code",
   "source": [
    "cdf['Разность (d)'] = round(cdf['Середина интервала'] - selective_mean, 1)\n",
    "cdf['Частота (f)'] = abs(cdf['Разность (d)']) * cdf['Число предприятий']\n",
    "cdf['Частота (2f)'] = (cdf['Разность (d)'] ** 2) * cdf['Число предприятий']\n",
    "cdf = cdf.astype({'Частота (f)': 'int64'})\n",
    "cdf"
   ],
   "id": "82bc1c0af01b423a",
   "outputs": [
    {
     "data": {
      "text/plain": "                    Число предприятий  Середина интервала  Варианта (s)  \\\nГруппы предприятий                                                        \n100<                               50                  50          2500   \n100-300                            30                 200          6000   \n300-500                            10                 400          4000   \n500-1000                            6                 750          4500   \n1000-3000                           3                2000          6000   \n>3000                               1                4000          4000   \n\n                    Разность (d)  Частота (f)  Частота (2f)  \nГруппы предприятий                                           \n100<                      -220.0        11000     2420000.0  \n100-300                    -70.0         2100      147000.0  \n300-500                    130.0         1300      169000.0  \n500-1000                   480.0         2880     1382400.0  \n1000-3000                 1730.0         5190     8978700.0  \n>3000                     3730.0         3730    13912900.0  ",
      "text/html": "<div>\n<style scoped>\n    .dataframe tbody tr th:only-of-type {\n        vertical-align: middle;\n    }\n\n    .dataframe tbody tr th {\n        vertical-align: top;\n    }\n\n    .dataframe thead th {\n        text-align: right;\n    }\n</style>\n<table border=\"1\" class=\"dataframe\">\n  <thead>\n    <tr style=\"text-align: right;\">\n      <th></th>\n      <th>Число предприятий</th>\n      <th>Середина интервала</th>\n      <th>Варианта (s)</th>\n      <th>Разность (d)</th>\n      <th>Частота (f)</th>\n      <th>Частота (2f)</th>\n    </tr>\n    <tr>\n      <th>Группы предприятий</th>\n      <th></th>\n      <th></th>\n      <th></th>\n      <th></th>\n      <th></th>\n      <th></th>\n    </tr>\n  </thead>\n  <tbody>\n    <tr>\n      <th>100&lt;</th>\n      <td>50</td>\n      <td>50</td>\n      <td>2500</td>\n      <td>-220.0</td>\n      <td>11000</td>\n      <td>2420000.0</td>\n    </tr>\n    <tr>\n      <th>100-300</th>\n      <td>30</td>\n      <td>200</td>\n      <td>6000</td>\n      <td>-70.0</td>\n      <td>2100</td>\n      <td>147000.0</td>\n    </tr>\n    <tr>\n      <th>300-500</th>\n      <td>10</td>\n      <td>400</td>\n      <td>4000</td>\n      <td>130.0</td>\n      <td>1300</td>\n      <td>169000.0</td>\n    </tr>\n    <tr>\n      <th>500-1000</th>\n      <td>6</td>\n      <td>750</td>\n      <td>4500</td>\n      <td>480.0</td>\n      <td>2880</td>\n      <td>1382400.0</td>\n    </tr>\n    <tr>\n      <th>1000-3000</th>\n      <td>3</td>\n      <td>2000</td>\n      <td>6000</td>\n      <td>1730.0</td>\n      <td>5190</td>\n      <td>8978700.0</td>\n    </tr>\n    <tr>\n      <th>&gt;3000</th>\n      <td>1</td>\n      <td>4000</td>\n      <td>4000</td>\n      <td>3730.0</td>\n      <td>3730</td>\n      <td>13912900.0</td>\n    </tr>\n  </tbody>\n</table>\n</div>"
     },
     "execution_count": 5,
     "metadata": {},
     "output_type": "execute_result"
    }
   ],
   "execution_count": 5
  },
  {
   "metadata": {
    "ExecuteTime": {
     "end_time": "2024-05-06T12:12:08.296937600Z",
     "start_time": "2024-05-06T12:12:08.198580Z"
    }
   },
   "cell_type": "code",
   "source": [
    "mid_lin_disp = sum(cdf['Частота (f)']) / total_freq\n",
    "mid_lin_disp"
   ],
   "id": "d5b92b4e562db156",
   "outputs": [
    {
     "data": {
      "text/plain": "262.0"
     },
     "execution_count": 6,
     "metadata": {},
     "output_type": "execute_result"
    }
   ],
   "execution_count": 6
  },
  {
   "metadata": {
    "ExecuteTime": {
     "end_time": "2024-05-06T12:12:08.313640700Z",
     "start_time": "2024-05-06T12:12:08.215585100Z"
    }
   },
   "cell_type": "code",
   "source": [
    "disp = sum(cdf['Частота (2f)']) / total_freq\n",
    "disp"
   ],
   "id": "36aa31982973bc0c",
   "outputs": [
    {
     "data": {
      "text/plain": "270100.0"
     },
     "execution_count": 7,
     "metadata": {},
     "output_type": "execute_result"
    }
   ],
   "execution_count": 7
  },
  {
   "metadata": {
    "ExecuteTime": {
     "end_time": "2024-05-06T12:12:08.313640700Z",
     "start_time": "2024-05-06T12:12:08.223112500Z"
    }
   },
   "cell_type": "code",
   "source": [
    "coef_var = sqrt(disp) / selective_mean * 100\n",
    "coef_var"
   ],
   "id": "ea69f41f0ac36b95",
   "outputs": [
    {
     "data": {
      "text/plain": "192.48572533609308"
     },
     "execution_count": 8,
     "metadata": {},
     "output_type": "execute_result"
    }
   ],
   "execution_count": 8
  }
 ],
 "metadata": {
  "kernelspec": {
   "display_name": "Python 3",
   "language": "python",
   "name": "python3"
  },
  "language_info": {
   "codemirror_mode": {
    "name": "ipython",
    "version": 2
   },
   "file_extension": ".py",
   "mimetype": "text/x-python",
   "name": "python",
   "nbconvert_exporter": "python",
   "pygments_lexer": "ipython2",
   "version": "2.7.6"
  }
 },
 "nbformat": 4,
 "nbformat_minor": 5
}
