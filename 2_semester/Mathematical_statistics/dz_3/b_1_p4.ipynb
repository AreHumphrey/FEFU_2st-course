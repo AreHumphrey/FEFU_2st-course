{
 "cells": [
  {
   "metadata": {
    "ExecuteTime": {
     "end_time": "2024-05-06T11:50:12.686323300Z",
     "start_time": "2024-05-06T11:50:12.282425300Z"
    }
   },
   "cell_type": "code",
   "source": [
    "import pandas as pd\n",
    "import numpy as np"
   ],
   "id": "c0df5aee93b8f131",
   "outputs": [],
   "execution_count": 1
  },
  {
   "metadata": {
    "ExecuteTime": {
     "end_time": "2024-05-06T11:50:12.701370Z",
     "start_time": "2024-05-06T11:50:12.688322100Z"
    }
   },
   "cell_type": "code",
   "source": [
    "df = pd.read_csv(\"data_b1_p4.csv\")\n",
    "df"
   ],
   "id": "139a1928b61ff806",
   "outputs": [
    {
     "data": {
      "text/plain": "    Data\n0      5\n1      4\n2      2\n3      1\n4      6\n5      3\n6      3\n7      4\n8      3\n9      2\n10     2\n11     5\n12     6\n13     4\n14     3\n15     5\n16     4\n17     1\n18     2\n19     3\n20     3\n21     4\n22     1\n23     6\n24     5\n25     1\n26     3\n27     4\n28     3\n29     5\n30     4\n31     3\n32     3\n33     4\n34     4\n35     6\n36     4\n37     4\n38     3\n39     1\n40     5\n41     4\n42     3\n43     2\n44     6\n45     3\n46     4\n47     5\n48     5\n49     3\n50     3\n51     3\n52     3\n53     4\n54     5\n55     5\n56     6\n57     2\n58     4",
      "text/html": "<div>\n<style scoped>\n    .dataframe tbody tr th:only-of-type {\n        vertical-align: middle;\n    }\n\n    .dataframe tbody tr th {\n        vertical-align: top;\n    }\n\n    .dataframe thead th {\n        text-align: right;\n    }\n</style>\n<table border=\"1\" class=\"dataframe\">\n  <thead>\n    <tr style=\"text-align: right;\">\n      <th></th>\n      <th>Data</th>\n    </tr>\n  </thead>\n  <tbody>\n    <tr>\n      <th>0</th>\n      <td>5</td>\n    </tr>\n    <tr>\n      <th>1</th>\n      <td>4</td>\n    </tr>\n    <tr>\n      <th>2</th>\n      <td>2</td>\n    </tr>\n    <tr>\n      <th>3</th>\n      <td>1</td>\n    </tr>\n    <tr>\n      <th>4</th>\n      <td>6</td>\n    </tr>\n    <tr>\n      <th>5</th>\n      <td>3</td>\n    </tr>\n    <tr>\n      <th>6</th>\n      <td>3</td>\n    </tr>\n    <tr>\n      <th>7</th>\n      <td>4</td>\n    </tr>\n    <tr>\n      <th>8</th>\n      <td>3</td>\n    </tr>\n    <tr>\n      <th>9</th>\n      <td>2</td>\n    </tr>\n    <tr>\n      <th>10</th>\n      <td>2</td>\n    </tr>\n    <tr>\n      <th>11</th>\n      <td>5</td>\n    </tr>\n    <tr>\n      <th>12</th>\n      <td>6</td>\n    </tr>\n    <tr>\n      <th>13</th>\n      <td>4</td>\n    </tr>\n    <tr>\n      <th>14</th>\n      <td>3</td>\n    </tr>\n    <tr>\n      <th>15</th>\n      <td>5</td>\n    </tr>\n    <tr>\n      <th>16</th>\n      <td>4</td>\n    </tr>\n    <tr>\n      <th>17</th>\n      <td>1</td>\n    </tr>\n    <tr>\n      <th>18</th>\n      <td>2</td>\n    </tr>\n    <tr>\n      <th>19</th>\n      <td>3</td>\n    </tr>\n    <tr>\n      <th>20</th>\n      <td>3</td>\n    </tr>\n    <tr>\n      <th>21</th>\n      <td>4</td>\n    </tr>\n    <tr>\n      <th>22</th>\n      <td>1</td>\n    </tr>\n    <tr>\n      <th>23</th>\n      <td>6</td>\n    </tr>\n    <tr>\n      <th>24</th>\n      <td>5</td>\n    </tr>\n    <tr>\n      <th>25</th>\n      <td>1</td>\n    </tr>\n    <tr>\n      <th>26</th>\n      <td>3</td>\n    </tr>\n    <tr>\n      <th>27</th>\n      <td>4</td>\n    </tr>\n    <tr>\n      <th>28</th>\n      <td>3</td>\n    </tr>\n    <tr>\n      <th>29</th>\n      <td>5</td>\n    </tr>\n    <tr>\n      <th>30</th>\n      <td>4</td>\n    </tr>\n    <tr>\n      <th>31</th>\n      <td>3</td>\n    </tr>\n    <tr>\n      <th>32</th>\n      <td>3</td>\n    </tr>\n    <tr>\n      <th>33</th>\n      <td>4</td>\n    </tr>\n    <tr>\n      <th>34</th>\n      <td>4</td>\n    </tr>\n    <tr>\n      <th>35</th>\n      <td>6</td>\n    </tr>\n    <tr>\n      <th>36</th>\n      <td>4</td>\n    </tr>\n    <tr>\n      <th>37</th>\n      <td>4</td>\n    </tr>\n    <tr>\n      <th>38</th>\n      <td>3</td>\n    </tr>\n    <tr>\n      <th>39</th>\n      <td>1</td>\n    </tr>\n    <tr>\n      <th>40</th>\n      <td>5</td>\n    </tr>\n    <tr>\n      <th>41</th>\n      <td>4</td>\n    </tr>\n    <tr>\n      <th>42</th>\n      <td>3</td>\n    </tr>\n    <tr>\n      <th>43</th>\n      <td>2</td>\n    </tr>\n    <tr>\n      <th>44</th>\n      <td>6</td>\n    </tr>\n    <tr>\n      <th>45</th>\n      <td>3</td>\n    </tr>\n    <tr>\n      <th>46</th>\n      <td>4</td>\n    </tr>\n    <tr>\n      <th>47</th>\n      <td>5</td>\n    </tr>\n    <tr>\n      <th>48</th>\n      <td>5</td>\n    </tr>\n    <tr>\n      <th>49</th>\n      <td>3</td>\n    </tr>\n    <tr>\n      <th>50</th>\n      <td>3</td>\n    </tr>\n    <tr>\n      <th>51</th>\n      <td>3</td>\n    </tr>\n    <tr>\n      <th>52</th>\n      <td>3</td>\n    </tr>\n    <tr>\n      <th>53</th>\n      <td>4</td>\n    </tr>\n    <tr>\n      <th>54</th>\n      <td>5</td>\n    </tr>\n    <tr>\n      <th>55</th>\n      <td>5</td>\n    </tr>\n    <tr>\n      <th>56</th>\n      <td>6</td>\n    </tr>\n    <tr>\n      <th>57</th>\n      <td>2</td>\n    </tr>\n    <tr>\n      <th>58</th>\n      <td>4</td>\n    </tr>\n  </tbody>\n</table>\n</div>"
     },
     "execution_count": 2,
     "metadata": {},
     "output_type": "execute_result"
    }
   ],
   "execution_count": 2
  },
  {
   "metadata": {
    "ExecuteTime": {
     "end_time": "2024-05-06T11:50:12.729132Z",
     "start_time": "2024-05-06T11:50:12.702371400Z"
    }
   },
   "cell_type": "code",
   "source": [
    "df[\"Count\"] = df.groupby(\"Data\")['Data'].transform(\"count\")\n",
    "df = df.groupby(['Data']).head(1).sort_values(by=[\"Data\"]).reset_index(drop=True)\n",
    "df"
   ],
   "id": "9003bc3b86ba00ad",
   "outputs": [
    {
     "data": {
      "text/plain": "   Data  Count\n0     1      5\n1     2      6\n2     3     17\n3     4     15\n4     5     10\n5     6      6",
      "text/html": "<div>\n<style scoped>\n    .dataframe tbody tr th:only-of-type {\n        vertical-align: middle;\n    }\n\n    .dataframe tbody tr th {\n        vertical-align: top;\n    }\n\n    .dataframe thead th {\n        text-align: right;\n    }\n</style>\n<table border=\"1\" class=\"dataframe\">\n  <thead>\n    <tr style=\"text-align: right;\">\n      <th></th>\n      <th>Data</th>\n      <th>Count</th>\n    </tr>\n  </thead>\n  <tbody>\n    <tr>\n      <th>0</th>\n      <td>1</td>\n      <td>5</td>\n    </tr>\n    <tr>\n      <th>1</th>\n      <td>2</td>\n      <td>6</td>\n    </tr>\n    <tr>\n      <th>2</th>\n      <td>3</td>\n      <td>17</td>\n    </tr>\n    <tr>\n      <th>3</th>\n      <td>4</td>\n      <td>15</td>\n    </tr>\n    <tr>\n      <th>4</th>\n      <td>5</td>\n      <td>10</td>\n    </tr>\n    <tr>\n      <th>5</th>\n      <td>6</td>\n      <td>6</td>\n    </tr>\n  </tbody>\n</table>\n</div>"
     },
     "execution_count": 3,
     "metadata": {},
     "output_type": "execute_result"
    }
   ],
   "execution_count": 3
  },
  {
   "metadata": {
    "ExecuteTime": {
     "end_time": "2024-05-06T11:50:12.793757200Z",
     "start_time": "2024-05-06T11:50:12.713945400Z"
    }
   },
   "cell_type": "code",
   "source": [
    "k = 3\n",
    "line_ndf = pd.Series(df['Data'].to_numpy().reshape(-1), index=df['Data'].to_numpy().reshape(-1))\n",
    "line_ndf\n",
    "cut_df = pd.cut(line_ndf, bins=k, right=False, retbins=True, precision=1)[0]\n",
    "cut_df\n",
    "freq_df = cut_df.groupby(cut_df, observed=True).count()\n",
    "freq_df"
   ],
   "id": "86134624413e09c7",
   "outputs": [
    {
     "data": {
      "text/plain": "[1.0, 2.7)    2\n[2.7, 4.3)    2\n[4.3, 6.0)    2\ndtype: int64"
     },
     "execution_count": 4,
     "metadata": {},
     "output_type": "execute_result"
    }
   ],
   "execution_count": 4
  },
  {
   "metadata": {
    "ExecuteTime": {
     "end_time": "2024-05-06T11:50:12.793757200Z",
     "start_time": "2024-05-06T11:50:12.725829800Z"
    }
   },
   "cell_type": "code",
   "outputs": [],
   "execution_count": 4,
   "source": [],
   "id": "c7a798d6c2eba4a"
  }
 ],
 "metadata": {
  "kernelspec": {
   "display_name": "Python 3",
   "language": "python",
   "name": "python3"
  },
  "language_info": {
   "codemirror_mode": {
    "name": "ipython",
    "version": 2
   },
   "file_extension": ".py",
   "mimetype": "text/x-python",
   "name": "python",
   "nbconvert_exporter": "python",
   "pygments_lexer": "ipython2",
   "version": "2.7.6"
  }
 },
 "nbformat": 4,
 "nbformat_minor": 5
}
